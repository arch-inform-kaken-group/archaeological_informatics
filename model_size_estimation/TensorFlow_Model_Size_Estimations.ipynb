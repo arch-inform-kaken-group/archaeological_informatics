{
  "cells": [
    {
      "cell_type": "markdown",
      "source": [
        "# TensorFlowでのモデルサイズ推定"
      ],
      "metadata": {
        "id": "M2GZ5GQYhXh8"
      }
    },
    {
      "cell_type": "code",
      "execution_count": 1,
      "metadata": {
        "id": "Lrlni6QtsRv7"
      },
      "outputs": [],
      "source": [
        "import numpy as np\n",
        "import tensorflow as tf\n",
        "\n",
        "from tensorflow import keras\n",
        "from tensorflow.keras import layers"
      ]
    },
    {
      "cell_type": "markdown",
      "source": [
        "## モデルサイズ計算関数\n",
        "\n",
        "下記のページより  \n",
        "https://stackoverflow.com/questions/43137288/how-to-determine-needed-memory-of-keras-model"
      ],
      "metadata": {
        "id": "rVE6MRSihi-J"
      }
    },
    {
      "cell_type": "code",
      "execution_count": 2,
      "metadata": {
        "id": "0BTXbsVAsqGY"
      },
      "outputs": [],
      "source": [
        "def get_model_memory_usage(batch_size, model):\n",
        "    import numpy as np\n",
        "    try:\n",
        "        from keras import backend as K\n",
        "    except:\n",
        "        from tensorflow.keras import backend as K\n",
        "\n",
        "    shapes_mem_count = 0\n",
        "    internal_model_mem_count = 0\n",
        "    for l in model.layers:\n",
        "        layer_type = l.__class__.__name__\n",
        "        if layer_type == 'Model':\n",
        "            internal_model_mem_count += get_model_memory_usage(batch_size, l)\n",
        "        single_layer_mem = 1\n",
        "        out_shape = l.output_shape\n",
        "        if type(out_shape) is list:\n",
        "            out_shape = out_shape[0]\n",
        "        for s in out_shape:\n",
        "            if s is None:\n",
        "                continue\n",
        "            single_layer_mem *= s\n",
        "        shapes_mem_count += single_layer_mem\n",
        "\n",
        "    trainable_count = np.sum([K.count_params(p) for p in model.trainable_weights])\n",
        "    non_trainable_count = np.sum([K.count_params(p) for p in model.non_trainable_weights])\n",
        "\n",
        "    number_size = 4.0\n",
        "    if K.floatx() == 'float16':\n",
        "        number_size = 2.0\n",
        "    if K.floatx() == 'float64':\n",
        "        number_size = 8.0\n",
        "\n",
        "    total_memory = number_size * (batch_size * shapes_mem_count + trainable_count + non_trainable_count)\n",
        "    gbytes = np.round(total_memory / (1024.0 ** 3), 3) + internal_model_mem_count\n",
        "    return gbytes"
      ]
    },
    {
      "cell_type": "markdown",
      "source": [
        "## PointNetモデルの場合\n",
        "\n",
        "下記のページより  \n",
        "https://keras.io/examples/vision/pointnet/"
      ],
      "metadata": {
        "id": "qBIxE_CQh5I3"
      }
    },
    {
      "cell_type": "code",
      "metadata": {
        "id": "McAotA43N1RB"
      },
      "source": [
        "NUM_POINTS = 650000\n",
        "NUM_CLASSES = 10"
      ],
      "execution_count": 3,
      "outputs": []
    },
    {
      "cell_type": "code",
      "metadata": {
        "id": "D0cyCTUBN_D_"
      },
      "source": [
        "def conv_bn(x, filters):\n",
        "    x = layers.Conv1D(filters, kernel_size=1, padding=\"valid\")(x)\n",
        "    x = layers.BatchNormalization(momentum=0.0)(x)\n",
        "    return layers.Activation(\"relu\")(x)\n",
        "\n",
        "\n",
        "def dense_bn(x, filters):\n",
        "    x = layers.Dense(filters)(x)\n",
        "    x = layers.BatchNormalization(momentum=0.0)(x)\n",
        "    return layers.Activation(\"relu\")(x)\n"
      ],
      "execution_count": 4,
      "outputs": []
    },
    {
      "cell_type": "code",
      "metadata": {
        "id": "rhxrlJpfOAq8"
      },
      "source": [
        "class OrthogonalRegularizer(keras.regularizers.Regularizer):\n",
        "    def __init__(self, num_features, l2reg=0.001):\n",
        "        self.num_features = num_features\n",
        "        self.l2reg = l2reg\n",
        "        self.eye = tf.eye(num_features)\n",
        "\n",
        "    def __call__(self, x):\n",
        "        x = tf.reshape(x, (-1, self.num_features, self.num_features))\n",
        "        xxt = tf.tensordot(x, x, axes=(2, 2))\n",
        "        xxt = tf.reshape(xxt, (-1, self.num_features, self.num_features))\n",
        "        return tf.reduce_sum(self.l2reg * tf.square(xxt - self.eye))"
      ],
      "execution_count": 5,
      "outputs": []
    },
    {
      "cell_type": "code",
      "metadata": {
        "id": "PsGn7chbgXiA"
      },
      "source": [
        "def tnet(inputs, num_features):\n",
        "\n",
        "    # Initalise bias as the indentity matrix\n",
        "    bias = keras.initializers.Constant(np.eye(num_features).flatten())\n",
        "    reg = OrthogonalRegularizer(num_features)\n",
        "\n",
        "    x = conv_bn(inputs, 32)\n",
        "    x = conv_bn(x, 64)\n",
        "    x = conv_bn(x, 512)\n",
        "    x = layers.GlobalMaxPooling1D()(x)\n",
        "    x = dense_bn(x, 256)\n",
        "    x = dense_bn(x, 128)\n",
        "    x = layers.Dense(\n",
        "        num_features * num_features,\n",
        "        kernel_initializer=\"zeros\",\n",
        "        bias_initializer=bias,\n",
        "        activity_regularizer=reg,\n",
        "    )(x)\n",
        "    feat_T = layers.Reshape((num_features, num_features))(x)\n",
        "    # Apply affine transformation to input features\n",
        "    return layers.Dot(axes=(2, 1))([inputs, feat_T])"
      ],
      "execution_count": 6,
      "outputs": []
    },
    {
      "cell_type": "code",
      "metadata": {
        "colab": {
          "base_uri": "https://localhost:8080/"
        },
        "id": "qgNovk4wOJU2",
        "outputId": "c4b7490e-7132-4a02-af53-e802e8f1495f"
      },
      "source": [
        "inputs = keras.Input(shape=(NUM_POINTS, 6))\n",
        "\n",
        "x = tnet(inputs, 6)\n",
        "x = conv_bn(x, 32)\n",
        "x = conv_bn(x, 32)\n",
        "x = tnet(x, 32)\n",
        "x = conv_bn(x, 32)\n",
        "x = conv_bn(x, 64)\n",
        "x = conv_bn(x, 512)\n",
        "x = layers.GlobalMaxPooling1D()(x)\n",
        "x = dense_bn(x, 256)\n",
        "x = layers.Dropout(0.3)(x)\n",
        "x = dense_bn(x, 128)\n",
        "x = layers.Dropout(0.3)(x)\n",
        "\n",
        "outputs = layers.Dense(NUM_CLASSES, activation=\"softmax\")(x)\n",
        "\n",
        "model = keras.Model(inputs=inputs, outputs=outputs, name=\"pointnet\")\n",
        "model.summary()\n"
      ],
      "execution_count": 7,
      "outputs": [
        {
          "output_type": "stream",
          "name": "stdout",
          "text": [
            "Model: \"pointnet\"\n",
            "__________________________________________________________________________________________________\n",
            " Layer (type)                   Output Shape         Param #     Connected to                     \n",
            "==================================================================================================\n",
            " input_1 (InputLayer)           [(None, 650000, 6)]  0           []                               \n",
            "                                                                                                  \n",
            " conv1d (Conv1D)                (None, 650000, 32)   224         ['input_1[0][0]']                \n",
            "                                                                                                  \n",
            " batch_normalization (BatchNorm  (None, 650000, 32)  128         ['conv1d[0][0]']                 \n",
            " alization)                                                                                       \n",
            "                                                                                                  \n",
            " activation (Activation)        (None, 650000, 32)   0           ['batch_normalization[0][0]']    \n",
            "                                                                                                  \n",
            " conv1d_1 (Conv1D)              (None, 650000, 64)   2112        ['activation[0][0]']             \n",
            "                                                                                                  \n",
            " batch_normalization_1 (BatchNo  (None, 650000, 64)  256         ['conv1d_1[0][0]']               \n",
            " rmalization)                                                                                     \n",
            "                                                                                                  \n",
            " activation_1 (Activation)      (None, 650000, 64)   0           ['batch_normalization_1[0][0]']  \n",
            "                                                                                                  \n",
            " conv1d_2 (Conv1D)              (None, 650000, 512)  33280       ['activation_1[0][0]']           \n",
            "                                                                                                  \n",
            " batch_normalization_2 (BatchNo  (None, 650000, 512)  2048       ['conv1d_2[0][0]']               \n",
            " rmalization)                                                                                     \n",
            "                                                                                                  \n",
            " activation_2 (Activation)      (None, 650000, 512)  0           ['batch_normalization_2[0][0]']  \n",
            "                                                                                                  \n",
            " global_max_pooling1d (GlobalMa  (None, 512)         0           ['activation_2[0][0]']           \n",
            " xPooling1D)                                                                                      \n",
            "                                                                                                  \n",
            " dense (Dense)                  (None, 256)          131328      ['global_max_pooling1d[0][0]']   \n",
            "                                                                                                  \n",
            " batch_normalization_3 (BatchNo  (None, 256)         1024        ['dense[0][0]']                  \n",
            " rmalization)                                                                                     \n",
            "                                                                                                  \n",
            " activation_3 (Activation)      (None, 256)          0           ['batch_normalization_3[0][0]']  \n",
            "                                                                                                  \n",
            " dense_1 (Dense)                (None, 128)          32896       ['activation_3[0][0]']           \n",
            "                                                                                                  \n",
            " batch_normalization_4 (BatchNo  (None, 128)         512         ['dense_1[0][0]']                \n",
            " rmalization)                                                                                     \n",
            "                                                                                                  \n",
            " activation_4 (Activation)      (None, 128)          0           ['batch_normalization_4[0][0]']  \n",
            "                                                                                                  \n",
            " dense_2 (Dense)                (None, 36)           4644        ['activation_4[0][0]']           \n",
            "                                                                                                  \n",
            " reshape (Reshape)              (None, 6, 6)         0           ['dense_2[0][0]']                \n",
            "                                                                                                  \n",
            " dot (Dot)                      (None, 650000, 6)    0           ['input_1[0][0]',                \n",
            "                                                                  'reshape[0][0]']                \n",
            "                                                                                                  \n",
            " conv1d_3 (Conv1D)              (None, 650000, 32)   224         ['dot[0][0]']                    \n",
            "                                                                                                  \n",
            " batch_normalization_5 (BatchNo  (None, 650000, 32)  128         ['conv1d_3[0][0]']               \n",
            " rmalization)                                                                                     \n",
            "                                                                                                  \n",
            " activation_5 (Activation)      (None, 650000, 32)   0           ['batch_normalization_5[0][0]']  \n",
            "                                                                                                  \n",
            " conv1d_4 (Conv1D)              (None, 650000, 32)   1056        ['activation_5[0][0]']           \n",
            "                                                                                                  \n",
            " batch_normalization_6 (BatchNo  (None, 650000, 32)  128         ['conv1d_4[0][0]']               \n",
            " rmalization)                                                                                     \n",
            "                                                                                                  \n",
            " activation_6 (Activation)      (None, 650000, 32)   0           ['batch_normalization_6[0][0]']  \n",
            "                                                                                                  \n",
            " conv1d_5 (Conv1D)              (None, 650000, 32)   1056        ['activation_6[0][0]']           \n",
            "                                                                                                  \n",
            " batch_normalization_7 (BatchNo  (None, 650000, 32)  128         ['conv1d_5[0][0]']               \n",
            " rmalization)                                                                                     \n",
            "                                                                                                  \n",
            " activation_7 (Activation)      (None, 650000, 32)   0           ['batch_normalization_7[0][0]']  \n",
            "                                                                                                  \n",
            " conv1d_6 (Conv1D)              (None, 650000, 64)   2112        ['activation_7[0][0]']           \n",
            "                                                                                                  \n",
            " batch_normalization_8 (BatchNo  (None, 650000, 64)  256         ['conv1d_6[0][0]']               \n",
            " rmalization)                                                                                     \n",
            "                                                                                                  \n",
            " activation_8 (Activation)      (None, 650000, 64)   0           ['batch_normalization_8[0][0]']  \n",
            "                                                                                                  \n",
            " conv1d_7 (Conv1D)              (None, 650000, 512)  33280       ['activation_8[0][0]']           \n",
            "                                                                                                  \n",
            " batch_normalization_9 (BatchNo  (None, 650000, 512)  2048       ['conv1d_7[0][0]']               \n",
            " rmalization)                                                                                     \n",
            "                                                                                                  \n",
            " activation_9 (Activation)      (None, 650000, 512)  0           ['batch_normalization_9[0][0]']  \n",
            "                                                                                                  \n",
            " global_max_pooling1d_1 (Global  (None, 512)         0           ['activation_9[0][0]']           \n",
            " MaxPooling1D)                                                                                    \n",
            "                                                                                                  \n",
            " dense_3 (Dense)                (None, 256)          131328      ['global_max_pooling1d_1[0][0]'] \n",
            "                                                                                                  \n",
            " batch_normalization_10 (BatchN  (None, 256)         1024        ['dense_3[0][0]']                \n",
            " ormalization)                                                                                    \n",
            "                                                                                                  \n",
            " activation_10 (Activation)     (None, 256)          0           ['batch_normalization_10[0][0]'] \n",
            "                                                                                                  \n",
            " dense_4 (Dense)                (None, 128)          32896       ['activation_10[0][0]']          \n",
            "                                                                                                  \n",
            " batch_normalization_11 (BatchN  (None, 128)         512         ['dense_4[0][0]']                \n",
            " ormalization)                                                                                    \n",
            "                                                                                                  \n",
            " activation_11 (Activation)     (None, 128)          0           ['batch_normalization_11[0][0]'] \n",
            "                                                                                                  \n",
            " dense_5 (Dense)                (None, 1024)         132096      ['activation_11[0][0]']          \n",
            "                                                                                                  \n",
            " reshape_1 (Reshape)            (None, 32, 32)       0           ['dense_5[0][0]']                \n",
            "                                                                                                  \n",
            " dot_1 (Dot)                    (None, 650000, 32)   0           ['activation_6[0][0]',           \n",
            "                                                                  'reshape_1[0][0]']              \n",
            "                                                                                                  \n",
            " conv1d_8 (Conv1D)              (None, 650000, 32)   1056        ['dot_1[0][0]']                  \n",
            "                                                                                                  \n",
            " batch_normalization_12 (BatchN  (None, 650000, 32)  128         ['conv1d_8[0][0]']               \n",
            " ormalization)                                                                                    \n",
            "                                                                                                  \n",
            " activation_12 (Activation)     (None, 650000, 32)   0           ['batch_normalization_12[0][0]'] \n",
            "                                                                                                  \n",
            " conv1d_9 (Conv1D)              (None, 650000, 64)   2112        ['activation_12[0][0]']          \n",
            "                                                                                                  \n",
            " batch_normalization_13 (BatchN  (None, 650000, 64)  256         ['conv1d_9[0][0]']               \n",
            " ormalization)                                                                                    \n",
            "                                                                                                  \n",
            " activation_13 (Activation)     (None, 650000, 64)   0           ['batch_normalization_13[0][0]'] \n",
            "                                                                                                  \n",
            " conv1d_10 (Conv1D)             (None, 650000, 512)  33280       ['activation_13[0][0]']          \n",
            "                                                                                                  \n",
            " batch_normalization_14 (BatchN  (None, 650000, 512)  2048       ['conv1d_10[0][0]']              \n",
            " ormalization)                                                                                    \n",
            "                                                                                                  \n",
            " activation_14 (Activation)     (None, 650000, 512)  0           ['batch_normalization_14[0][0]'] \n",
            "                                                                                                  \n",
            " global_max_pooling1d_2 (Global  (None, 512)         0           ['activation_14[0][0]']          \n",
            " MaxPooling1D)                                                                                    \n",
            "                                                                                                  \n",
            " dense_6 (Dense)                (None, 256)          131328      ['global_max_pooling1d_2[0][0]'] \n",
            "                                                                                                  \n",
            " batch_normalization_15 (BatchN  (None, 256)         1024        ['dense_6[0][0]']                \n",
            " ormalization)                                                                                    \n",
            "                                                                                                  \n",
            " activation_15 (Activation)     (None, 256)          0           ['batch_normalization_15[0][0]'] \n",
            "                                                                                                  \n",
            " dropout (Dropout)              (None, 256)          0           ['activation_15[0][0]']          \n",
            "                                                                                                  \n",
            " dense_7 (Dense)                (None, 128)          32896       ['dropout[0][0]']                \n",
            "                                                                                                  \n",
            " batch_normalization_16 (BatchN  (None, 128)         512         ['dense_7[0][0]']                \n",
            " ormalization)                                                                                    \n",
            "                                                                                                  \n",
            " activation_16 (Activation)     (None, 128)          0           ['batch_normalization_16[0][0]'] \n",
            "                                                                                                  \n",
            " dropout_1 (Dropout)            (None, 128)          0           ['activation_16[0][0]']          \n",
            "                                                                                                  \n",
            " dense_8 (Dense)                (None, 10)           1290        ['dropout_1[0][0]']              \n",
            "                                                                                                  \n",
            "==================================================================================================\n",
            "Total params: 752,654\n",
            "Trainable params: 746,574\n",
            "Non-trainable params: 6,080\n",
            "__________________________________________________________________________________________________\n"
          ]
        }
      ]
    },
    {
      "cell_type": "code",
      "metadata": {
        "colab": {
          "base_uri": "https://localhost:8080/"
        },
        "id": "OIJiROHpvVya",
        "outputId": "3ca659e9-d3d2-4602-ec49-87984947133f"
      },
      "source": [
        "for batch_size in [4, 8, 16, 32]:\n",
        "  mem_size = get_model_memory_usage(batch_size, model)\n",
        "  print(\"Batch Size:{} , Memory Usage: {} GB\".format(batch_size, mem_size))"
      ],
      "execution_count": 8,
      "outputs": [
        {
          "output_type": "stream",
          "name": "stdout",
          "text": [
            "Batch Size:4 , Memory Usage: 55.289 GB\n",
            "Batch Size:8 , Memory Usage: 110.576 GB\n",
            "Batch Size:16 , Memory Usage: 221.148 GB\n",
            "Batch Size:32 , Memory Usage: 442.294 GB\n"
          ]
        }
      ]
    },
    {
      "cell_type": "markdown",
      "source": [
        "## 3D CNNの場合\n",
        "下記のページより  \n",
        "https://keras.io/examples/vision/3D_image_classification/"
      ],
      "metadata": {
        "id": "nSKM2YwDiIAM"
      }
    },
    {
      "cell_type": "code",
      "execution_count": 9,
      "metadata": {
        "colab": {
          "base_uri": "https://localhost:8080/"
        },
        "id": "Q1ZxYB_WsXgD",
        "outputId": "5c8855d1-19e3-44c1-a40b-9f855c173fcc"
      },
      "outputs": [
        {
          "output_type": "stream",
          "name": "stdout",
          "text": [
            "Model: \"3dcnn\"\n",
            "_________________________________________________________________\n",
            " Layer (type)                Output Shape              Param #   \n",
            "=================================================================\n",
            " input_2 (InputLayer)        [(None, 300, 150, 150, 3  0         \n",
            "                             )]                                  \n",
            "                                                                 \n",
            " conv3d (Conv3D)             (None, 298, 148, 148, 64  5248      \n",
            "                             )                                   \n",
            "                                                                 \n",
            " max_pooling3d (MaxPooling3D  (None, 149, 74, 74, 64)  0         \n",
            " )                                                               \n",
            "                                                                 \n",
            " batch_normalization_17 (Bat  (None, 149, 74, 74, 64)  256       \n",
            " chNormalization)                                                \n",
            "                                                                 \n",
            " conv3d_1 (Conv3D)           (None, 147, 72, 72, 64)   110656    \n",
            "                                                                 \n",
            " max_pooling3d_1 (MaxPooling  (None, 73, 36, 36, 64)   0         \n",
            " 3D)                                                             \n",
            "                                                                 \n",
            " batch_normalization_18 (Bat  (None, 73, 36, 36, 64)   256       \n",
            " chNormalization)                                                \n",
            "                                                                 \n",
            " conv3d_2 (Conv3D)           (None, 71, 34, 34, 128)   221312    \n",
            "                                                                 \n",
            " max_pooling3d_2 (MaxPooling  (None, 35, 17, 17, 128)  0         \n",
            " 3D)                                                             \n",
            "                                                                 \n",
            " batch_normalization_19 (Bat  (None, 35, 17, 17, 128)  512       \n",
            " chNormalization)                                                \n",
            "                                                                 \n",
            " conv3d_3 (Conv3D)           (None, 33, 15, 15, 256)   884992    \n",
            "                                                                 \n",
            " max_pooling3d_3 (MaxPooling  (None, 16, 7, 7, 256)    0         \n",
            " 3D)                                                             \n",
            "                                                                 \n",
            " batch_normalization_20 (Bat  (None, 16, 7, 7, 256)    1024      \n",
            " chNormalization)                                                \n",
            "                                                                 \n",
            " global_average_pooling3d (G  (None, 256)              0         \n",
            " lobalAveragePooling3D)                                          \n",
            "                                                                 \n",
            " dense_9 (Dense)             (None, 512)               131584    \n",
            "                                                                 \n",
            " dropout_2 (Dropout)         (None, 512)               0         \n",
            "                                                                 \n",
            " dense_10 (Dense)            (None, 10)                5130      \n",
            "                                                                 \n",
            "=================================================================\n",
            "Total params: 1,360,970\n",
            "Trainable params: 1,359,946\n",
            "Non-trainable params: 1,024\n",
            "_________________________________________________________________\n"
          ]
        }
      ],
      "source": [
        "def get_model(width=128, height=128, depth=64, channel=1):\n",
        "    \"\"\"Build a 3D convolutional neural network model.\"\"\"\n",
        "\n",
        "    inputs = keras.Input((width, height, depth, channel))\n",
        "\n",
        "    x = layers.Conv3D(filters=64, kernel_size=3, activation=\"relu\")(inputs)\n",
        "    x = layers.MaxPool3D(pool_size=2)(x)\n",
        "    x = layers.BatchNormalization()(x)\n",
        "\n",
        "    x = layers.Conv3D(filters=64, kernel_size=3, activation=\"relu\")(x)\n",
        "    x = layers.MaxPool3D(pool_size=2)(x)\n",
        "    x = layers.BatchNormalization()(x)\n",
        "\n",
        "    x = layers.Conv3D(filters=128, kernel_size=3, activation=\"relu\")(x)\n",
        "    x = layers.MaxPool3D(pool_size=2)(x)\n",
        "    x = layers.BatchNormalization()(x)\n",
        "\n",
        "    x = layers.Conv3D(filters=256, kernel_size=3, activation=\"relu\")(x)\n",
        "    x = layers.MaxPool3D(pool_size=2)(x)\n",
        "    x = layers.BatchNormalization()(x)\n",
        "\n",
        "    x = layers.GlobalAveragePooling3D()(x)\n",
        "    x = layers.Dense(units=512, activation=\"relu\")(x)\n",
        "    x = layers.Dropout(0.3)(x)\n",
        "\n",
        "    outputs = layers.Dense(units=NUM_CLASSES, activation=\"softmax\")(x)\n",
        "\n",
        "    # Define the model.\n",
        "    model = keras.Model(inputs, outputs, name=\"3dcnn\")\n",
        "    return model\n",
        "\n",
        "\n",
        "# Build model.\n",
        "model = get_model(width=300, height=150, depth=150, channel=3)\n",
        "model.summary()"
      ]
    },
    {
      "cell_type": "code",
      "execution_count": 10,
      "metadata": {
        "colab": {
          "base_uri": "https://localhost:8080/"
        },
        "id": "NHu4KnIluG1i",
        "outputId": "bffc6f7a-b05a-4559-af96-45d6b9b0bd3c"
      },
      "outputs": [
        {
          "output_type": "stream",
          "name": "stdout",
          "text": [
            "Batch Size:4 , Memory Usage: 9.225GB\n",
            "Batch Size:8 , Memory Usage: 18.444GB\n",
            "Batch Size:16 , Memory Usage: 36.884GB\n",
            "Batch Size:32 , Memory Usage: 73.762GB\n"
          ]
        }
      ],
      "source": [
        "for batch_size in [4, 8, 16, 32]:\n",
        "  mem_size = get_model_memory_usage(batch_size, model)\n",
        "  print(\"Batch Size:{} , Memory Usage: {}GB\".format(batch_size, mem_size))"
      ]
    },
    {
      "cell_type": "code",
      "execution_count": 10,
      "metadata": {
        "id": "ny4Z2-OXuLbN"
      },
      "outputs": [],
      "source": [
        ""
      ]
    }
  ],
  "metadata": {
    "colab": {
      "collapsed_sections": [],
      "name": "TensorFlow_Model_Size_Estimations",
      "provenance": [],
      "machine_shape": "hm"
    },
    "kernelspec": {
      "display_name": "Python 3",
      "name": "python3"
    },
    "language_info": {
      "name": "python"
    }
  },
  "nbformat": 4,
  "nbformat_minor": 0
}