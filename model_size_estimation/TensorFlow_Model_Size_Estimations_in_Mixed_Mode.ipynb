{
  "cells": [
    {
      "cell_type": "markdown",
      "metadata": {
        "id": "M2GZ5GQYhXh8"
      },
      "source": [
        "# TensorFlowでのモデルサイズ推定"
      ]
    },
    {
      "cell_type": "code",
      "execution_count": 1,
      "metadata": {
        "id": "Lrlni6QtsRv7"
      },
      "outputs": [],
      "source": [
        "import numpy as np\n",
        "import tensorflow as tf\n",
        "\n",
        "from tensorflow import keras\n",
        "from tensorflow.keras import layers"
      ]
    },
    {
      "cell_type": "markdown",
      "metadata": {
        "id": "d6BIOdoDFwI8"
      },
      "source": [
        "### GPUメモリ確保モードの変更"
      ]
    },
    {
      "cell_type": "markdown",
      "metadata": {
        "id": "T-h2eZJ5FwI9"
      },
      "source": [
        "既定では、利用可能なメモリを一括確保する設定であるため、これを必要の都度確保する設定に変更している。\n",
        "\n",
        "https://www.tensorflow.org/guide/gpu"
      ]
    },
    {
      "cell_type": "code",
      "execution_count": 2,
      "metadata": {
        "id": "I_IJMho9_T79",
        "colab": {
          "base_uri": "https://localhost:8080/"
        },
        "outputId": "51f2cb60-a646-4f7d-8338-f93edb12109a"
      },
      "outputs": [
        {
          "output_type": "stream",
          "name": "stdout",
          "text": [
            "1 Physical GPUs, 1 Logical GPUs\n"
          ]
        }
      ],
      "source": [
        "gpus = tf.config.experimental.list_physical_devices('GPU')\n",
        "if gpus:\n",
        "  try:\n",
        "    # Currently, memory growth needs to be the same across GPUs\n",
        "    for gpu in gpus:\n",
        "      tf.config.experimental.set_memory_growth(gpu, True)\n",
        "    logical_gpus = tf.config.experimental.list_logical_devices('GPU')\n",
        "    print(len(gpus), \"Physical GPUs,\", len(logical_gpus), \"Logical GPUs\")\n",
        "  except RuntimeError as e:\n",
        "    # Memory growth must be set before GPUs have been initialized\n",
        "    print(e)"
      ]
    },
    {
      "cell_type": "markdown",
      "metadata": {
        "id": "5-9HZM07FwI-"
      },
      "source": [
        "## 開始前のGPUメモリ"
      ]
    },
    {
      "cell_type": "code",
      "execution_count": 3,
      "metadata": {
        "colab": {
          "base_uri": "https://localhost:8080/"
        },
        "id": "_nm0nXBLFwI-",
        "outputId": "4c1fd4ca-9c8d-4f4a-a09b-577a41746f45"
      },
      "outputs": [
        {
          "output_type": "execute_result",
          "data": {
            "text/plain": [
              "{'current': 0, 'peak': 0}"
            ]
          },
          "metadata": {},
          "execution_count": 3
        }
      ],
      "source": [
        "mem_info_before = tf.config.experimental.get_memory_info('GPU:0')\n",
        "mem_info_before"
      ]
    },
    {
      "cell_type": "code",
      "execution_count": 4,
      "metadata": {
        "colab": {
          "base_uri": "https://localhost:8080/"
        },
        "id": "3NHce03pFwI_",
        "outputId": "cf057ec2-77ea-427a-9f79-4aca039c4c6c"
      },
      "outputs": [
        {
          "output_type": "stream",
          "name": "stdout",
          "text": [
            "Fri Apr 15 07:20:12 2022       \n",
            "+-----------------------------------------------------------------------------+\n",
            "| NVIDIA-SMI 460.32.03    Driver Version: 460.32.03    CUDA Version: 11.2     |\n",
            "|-------------------------------+----------------------+----------------------+\n",
            "| GPU  Name        Persistence-M| Bus-Id        Disp.A | Volatile Uncorr. ECC |\n",
            "| Fan  Temp  Perf  Pwr:Usage/Cap|         Memory-Usage | GPU-Util  Compute M. |\n",
            "|                               |                      |               MIG M. |\n",
            "|===============================+======================+======================|\n",
            "|   0  Tesla T4            Off  | 00000000:00:04.0 Off |                    0 |\n",
            "| N/A   50C    P0    28W /  70W |    264MiB / 15109MiB |      0%      Default |\n",
            "|                               |                      |                  N/A |\n",
            "+-------------------------------+----------------------+----------------------+\n",
            "                                                                               \n",
            "+-----------------------------------------------------------------------------+\n",
            "| Processes:                                                                  |\n",
            "|  GPU   GI   CI        PID   Type   Process name                  GPU Memory |\n",
            "|        ID   ID                                                   Usage      |\n",
            "|=============================================================================|\n",
            "+-----------------------------------------------------------------------------+\n"
          ]
        }
      ],
      "source": [
        "!nvidia-smi"
      ]
    },
    {
      "cell_type": "markdown",
      "metadata": {
        "id": "yGKeqs9sFwJA"
      },
      "source": [
        "## 混合精度演算設定"
      ]
    },
    {
      "cell_type": "markdown",
      "metadata": {
        "id": "xe11BsGcFwJA"
      },
      "source": [
        "https://www.tensorflow.org/guide/mixed_precision"
      ]
    },
    {
      "cell_type": "code",
      "execution_count": 5,
      "metadata": {
        "id": "xdd3XHVii9rr",
        "colab": {
          "base_uri": "https://localhost:8080/"
        },
        "outputId": "87aba34e-fc3b-4b4e-b9eb-777f8d4636e1"
      },
      "outputs": [
        {
          "output_type": "stream",
          "name": "stdout",
          "text": [
            "INFO:tensorflow:Mixed precision compatibility check (mixed_float16): OK\n",
            "Your GPU will likely run quickly with dtype policy mixed_float16 as it has compute capability of at least 7.0. Your GPU: Tesla T4, compute capability 7.5\n",
            "WARNING:tensorflow:From /usr/local/lib/python3.7/dist-packages/keras/mixed_precision/loss_scale.py:52: DynamicLossScale.__init__ (from tensorflow.python.training.experimental.loss_scale) is deprecated and will be removed in a future version.\n",
            "Instructions for updating:\n",
            "Use tf.keras.mixed_precision.LossScaleOptimizer instead. LossScaleOptimizer now has all the functionality of DynamicLossScale\n"
          ]
        }
      ],
      "source": [
        "dtype = \"mixed_float16\"\n",
        "policy = tf.keras.mixed_precision.experimental.Policy(dtype)\n",
        "tf.compat.v2.keras.mixed_precision.experimental.set_policy(policy)"
      ]
    },
    {
      "cell_type": "markdown",
      "metadata": {
        "id": "rVE6MRSihi-J"
      },
      "source": [
        "## モデルサイズ計算関数\n",
        "\n",
        "下記のページのプログラム\n",
        "https://stackoverflow.com/questions/43137288/how-to-determine-needed-memory-of-keras-model\n",
        "では、混合精度演算には対応していないため、モデル中の各レイヤのdtype_policyを元にデータサイズを推定するように修正を試みた。"
      ]
    },
    {
      "cell_type": "code",
      "execution_count": 6,
      "metadata": {
        "id": "eL35piB1cUSs"
      },
      "outputs": [],
      "source": [
        "def get_model_memory_usage_mixed_mode(batch_size, model):\n",
        "    import numpy as np\n",
        "    try:\n",
        "        from keras import backend as K\n",
        "    except:\n",
        "        from tensorflow.keras import backend as K\n",
        "\n",
        "    def get_bytes(dtype_policy_name):\n",
        "        if dtype_policy_name == 'float16':\n",
        "            return 2\n",
        "        elif dtype_policy_name == 'float32':\n",
        "            return 4\n",
        "        elif dtype_policy_name == 'float64':\n",
        "            return 8\n",
        "        if dtype_policy_name == 'mixed_float16':\n",
        "            return 2\n",
        "        if dtype_policy_name == 'mixed_bfloat16':\n",
        "            return 2\n",
        "        else:\n",
        "            raise \"unknow dtype_plocy;{}\".format(dtype_policy_name)\n",
        "    \n",
        "    internal_model_mem_count = 0\n",
        "    trainable_count = 0\n",
        "    non_trainable_count = 0\n",
        "    total_memory = 0\n",
        "    for l in model.layers:\n",
        "        layer_type = l.__class__.__name__\n",
        "        if layer_type == 'Model':\n",
        "            internal_model_mem_count += get_model_memory_usage_mixed_mode(batch_size, l)\n",
        "        single_layer_mem = 1\n",
        "        out_shape = l.output_shape\n",
        "        if type(out_shape) is list:\n",
        "            out_shape = out_shape[0]\n",
        "        for s in out_shape:\n",
        "            if s is None:\n",
        "                continue\n",
        "            single_layer_mem *= s\n",
        " \n",
        "        trainable_count = np.sum([K.count_params(p) for p in l.trainable_weights])\n",
        "        non_trainable_count = np.sum([K.count_params(p) for p in l.non_trainable_weights])\n",
        "\n",
        "        total_memory += get_bytes(l.dtype_policy.name) * batch_size * single_layer_mem\n",
        "        total_memory += get_bytes(l.dtype_policy.name) * (trainable_count + non_trainable_count)\n",
        "    gbytes = np.round(total_memory / (1024.0 ** 3), 3) + internal_model_mem_count\n",
        "    return gbytes"
      ]
    },
    {
      "cell_type": "markdown",
      "metadata": {
        "id": "nSKM2YwDiIAM"
      },
      "source": [
        "## 3D CNNの場合\n",
        "下記のページより  \n",
        "https://keras.io/examples/vision/3D_image_classification/"
      ]
    },
    {
      "cell_type": "code",
      "execution_count": 7,
      "metadata": {
        "id": "McAotA43N1RB"
      },
      "outputs": [],
      "source": [
        "NUM_CLASSES = 10"
      ]
    },
    {
      "cell_type": "code",
      "execution_count": 8,
      "metadata": {
        "colab": {
          "base_uri": "https://localhost:8080/"
        },
        "id": "Q1ZxYB_WsXgD",
        "outputId": "09253018-a22c-4429-9f69-deda8bee396b"
      },
      "outputs": [
        {
          "output_type": "stream",
          "name": "stdout",
          "text": [
            "Model: \"3dcnn\"\n",
            "_________________________________________________________________\n",
            " Layer (type)                Output Shape              Param #   \n",
            "=================================================================\n",
            " input_1 (InputLayer)        [(None, 150, 300, 150, 3  0         \n",
            "                             )]                                  \n",
            "                                                                 \n",
            " conv3d (Conv3D)             (None, 148, 298, 148, 64  5248      \n",
            "                             )                                   \n",
            "                                                                 \n",
            " max_pooling3d (MaxPooling3D  (None, 74, 149, 74, 64)  0         \n",
            " )                                                               \n",
            "                                                                 \n",
            " batch_normalization (BatchN  (None, 74, 149, 74, 64)  256       \n",
            " ormalization)                                                   \n",
            "                                                                 \n",
            " conv3d_1 (Conv3D)           (None, 72, 147, 72, 64)   110656    \n",
            "                                                                 \n",
            " max_pooling3d_1 (MaxPooling  (None, 36, 73, 36, 64)   0         \n",
            " 3D)                                                             \n",
            "                                                                 \n",
            " batch_normalization_1 (Batc  (None, 36, 73, 36, 64)   256       \n",
            " hNormalization)                                                 \n",
            "                                                                 \n",
            " conv3d_2 (Conv3D)           (None, 34, 71, 34, 128)   221312    \n",
            "                                                                 \n",
            " max_pooling3d_2 (MaxPooling  (None, 17, 35, 17, 128)  0         \n",
            " 3D)                                                             \n",
            "                                                                 \n",
            " batch_normalization_2 (Batc  (None, 17, 35, 17, 128)  512       \n",
            " hNormalization)                                                 \n",
            "                                                                 \n",
            " conv3d_3 (Conv3D)           (None, 15, 33, 15, 256)   884992    \n",
            "                                                                 \n",
            " max_pooling3d_3 (MaxPooling  (None, 7, 16, 7, 256)    0         \n",
            " 3D)                                                             \n",
            "                                                                 \n",
            " batch_normalization_3 (Batc  (None, 7, 16, 7, 256)    1024      \n",
            " hNormalization)                                                 \n",
            "                                                                 \n",
            " global_average_pooling3d (G  (None, 256)              0         \n",
            " lobalAveragePooling3D)                                          \n",
            "                                                                 \n",
            " dense (Dense)               (None, 512)               131584    \n",
            "                                                                 \n",
            " dropout (Dropout)           (None, 512)               0         \n",
            "                                                                 \n",
            " dense_1 (Dense)             (None, 10)                5130      \n",
            "                                                                 \n",
            " activation (Activation)     (None, 10)                0         \n",
            "                                                                 \n",
            "=================================================================\n",
            "Total params: 1,360,970\n",
            "Trainable params: 1,359,946\n",
            "Non-trainable params: 1,024\n",
            "_________________________________________________________________\n"
          ]
        }
      ],
      "source": [
        "def get_model(width=128, height=128, depth=64, channel=1):\n",
        "    \"\"\"Build a 3D convolutional neural network model.\"\"\"\n",
        "\n",
        "    inputs = keras.Input((width, height, depth, channel))\n",
        "\n",
        "    x = layers.Conv3D(filters=64, kernel_size=3, activation=\"relu\")(inputs)\n",
        "    x = layers.MaxPool3D(pool_size=2)(x)\n",
        "    x = layers.BatchNormalization()(x)\n",
        "\n",
        "    x = layers.Conv3D(filters=64, kernel_size=3, activation=\"relu\")(x)\n",
        "    x = layers.MaxPool3D(pool_size=2)(x)\n",
        "    x = layers.BatchNormalization()(x)\n",
        "\n",
        "    x = layers.Conv3D(filters=128, kernel_size=3, activation=\"relu\")(x)\n",
        "    x = layers.MaxPool3D(pool_size=2)(x)\n",
        "    x = layers.BatchNormalization()(x)\n",
        "\n",
        "    x = layers.Conv3D(filters=256, kernel_size=3, activation=\"relu\")(x)\n",
        "    x = layers.MaxPool3D(pool_size=2)(x)\n",
        "    x = layers.BatchNormalization()(x)\n",
        "\n",
        "    x = layers.GlobalAveragePooling3D()(x)\n",
        "    x = layers.Dense(units=512, activation=\"relu\")(x)\n",
        "    x = layers.Dropout(0.3)(x)\n",
        "\n",
        "    x = layers.Dense(units=NUM_CLASSES)(x)\n",
        "    outputs = layers.Activation(keras.activations.softmax, dtype='float32')(x)\n",
        "\n",
        "    # Define the model.\n",
        "    model = keras.Model(inputs, outputs, name=\"3dcnn\")\n",
        "    return model\n",
        "\n",
        "\n",
        "# Build model.\n",
        "model = get_model(width=150, height=300, depth=150, channel=3)\n",
        "model.summary()"
      ]
    },
    {
      "cell_type": "code",
      "execution_count": 9,
      "metadata": {
        "colab": {
          "base_uri": "https://localhost:8080/"
        },
        "id": "x-t47vS5eKMC",
        "outputId": "6f016201-f4b4-4e25-a18e-9498b4034e06"
      },
      "outputs": [
        {
          "output_type": "stream",
          "name": "stdout",
          "text": [
            "Batch Size:2 , Memory Usage: 2.383GB\n",
            "Batch Size:4 , Memory Usage: 4.763GB\n",
            "Batch Size:8 , Memory Usage: 9.524GB\n",
            "Batch Size:16 , Memory Usage: 19.045GB\n",
            "Batch Size:32 , Memory Usage: 38.088GB\n"
          ]
        }
      ],
      "source": [
        "for batch_size in [2, 4, 8, 16, 32]:\n",
        "  mem_size = get_model_memory_usage_mixed_mode(batch_size, model)\n",
        "  print(\"Batch Size:{} , Memory Usage: {}GB\".format(batch_size, mem_size))"
      ]
    },
    {
      "cell_type": "markdown",
      "metadata": {
        "id": "-ronk5DNFwJF"
      },
      "source": [
        "## ダミーデータによるモデル訓練"
      ]
    },
    {
      "cell_type": "code",
      "execution_count": 10,
      "metadata": {
        "id": "kE4f_6N0FwJF"
      },
      "outputs": [],
      "source": [
        "BATCH_SIZE = 2\n",
        "dummy_x = np.random.randn(BATCH_SIZE, 150, 300, 150, 3)\n",
        "dummy_y = np.random.randint(0, 9, size=BATCH_SIZE)"
      ]
    },
    {
      "cell_type": "code",
      "execution_count": 11,
      "metadata": {
        "colab": {
          "base_uri": "https://localhost:8080/"
        },
        "id": "gfpB1ZayFwJG",
        "outputId": "1d7b805d-6004-4de1-9b7a-ac628196a753"
      },
      "outputs": [
        {
          "output_type": "stream",
          "name": "stdout",
          "text": [
            "WARNING:tensorflow:tf.keras.mixed_precision.experimental.LossScaleOptimizer is deprecated. Please use tf.keras.mixed_precision.LossScaleOptimizer instead. Note that the non-experimental LossScaleOptimizer does not take a DynamicLossScale but instead takes the dynamic configuration directly in the constructor. For example:\n",
            "  opt = tf.keras.mixed_precision.LossScaleOptimizer(opt)\n",
            "\n",
            "1/1 [==============================] - 15s 15s/step - loss: 2.2639\n"
          ]
        },
        {
          "output_type": "execute_result",
          "data": {
            "text/plain": [
              "<keras.callbacks.History at 0x7efc97c90a10>"
            ]
          },
          "metadata": {},
          "execution_count": 11
        }
      ],
      "source": [
        "model.compile(optimizer='adam', loss='sparse_categorical_crossentropy')\n",
        "model.fit(dummy_x, dummy_y)"
      ]
    },
    {
      "cell_type": "markdown",
      "metadata": {
        "id": "E-CfUS0bFwJG"
      },
      "source": [
        "## 訓練実行後のGPUメモリ"
      ]
    },
    {
      "cell_type": "code",
      "execution_count": 12,
      "metadata": {
        "colab": {
          "base_uri": "https://localhost:8080/"
        },
        "id": "kyg447hGFwJG",
        "outputId": "47281646-6fea-4365-c776-95c492d182c8"
      },
      "outputs": [
        {
          "output_type": "execute_result",
          "data": {
            "text/plain": [
              "{'current': 287205120, 'peak': 7991122432}"
            ]
          },
          "metadata": {},
          "execution_count": 12
        }
      ],
      "source": [
        "mem_info_after = tf.config.experimental.get_memory_info('GPU:0')\n",
        "mem_info_after"
      ]
    },
    {
      "cell_type": "code",
      "execution_count": 13,
      "metadata": {
        "colab": {
          "base_uri": "https://localhost:8080/"
        },
        "id": "IeXQ8fn_FwJH",
        "outputId": "63da7b8c-fe09-4776-d67f-ebc50d152188"
      },
      "outputs": [
        {
          "output_type": "execute_result",
          "data": {
            "text/plain": [
              "7.442312717437744"
            ]
          },
          "metadata": {},
          "execution_count": 13
        }
      ],
      "source": [
        "peak_allocated_mem_gb = (mem_info_after['peak'] - mem_info_before['peak']) / 1024**3\n",
        "peak_allocated_mem_gb"
      ]
    },
    {
      "cell_type": "markdown",
      "metadata": {
        "id": "E4SBMTP0FwJH"
      },
      "source": [
        "推定モデルサイズ2.38GBに対して3倍以上のメモリが確保されている。"
      ]
    },
    {
      "cell_type": "code",
      "execution_count": 14,
      "metadata": {
        "colab": {
          "base_uri": "https://localhost:8080/"
        },
        "id": "M5ALtoRrFwJH",
        "outputId": "24ada0e5-f4a4-45ee-865e-7491633bf69f"
      },
      "outputs": [
        {
          "output_type": "stream",
          "name": "stdout",
          "text": [
            "Fri Apr 15 07:20:39 2022       \n",
            "+-----------------------------------------------------------------------------+\n",
            "| NVIDIA-SMI 460.32.03    Driver Version: 460.32.03    CUDA Version: 11.2     |\n",
            "|-------------------------------+----------------------+----------------------+\n",
            "| GPU  Name        Persistence-M| Bus-Id        Disp.A | Volatile Uncorr. ECC |\n",
            "| Fan  Temp  Perf  Pwr:Usage/Cap|         Memory-Usage | GPU-Util  Compute M. |\n",
            "|                               |                      |               MIG M. |\n",
            "|===============================+======================+======================|\n",
            "|   0  Tesla T4            Off  | 00000000:00:04.0 Off |                    0 |\n",
            "| N/A   54C    P0    28W /  70W |  10036MiB / 15109MiB |      0%      Default |\n",
            "|                               |                      |                  N/A |\n",
            "+-------------------------------+----------------------+----------------------+\n",
            "                                                                               \n",
            "+-----------------------------------------------------------------------------+\n",
            "| Processes:                                                                  |\n",
            "|  GPU   GI   CI        PID   Type   Process name                  GPU Memory |\n",
            "|        ID   ID                                                   Usage      |\n",
            "|=============================================================================|\n",
            "+-----------------------------------------------------------------------------+\n"
          ]
        }
      ],
      "source": [
        "!nvidia-smi"
      ]
    },
    {
      "cell_type": "markdown",
      "metadata": {
        "id": "40uoMEnJFwJI"
      },
      "source": [
        "実際には10GB近いメモリが占有されている。"
      ]
    },
    {
      "cell_type": "markdown",
      "metadata": {
        "id": "_6RW8Sb2FwJI"
      },
      "source": [
        "## 考察"
      ]
    },
    {
      "cell_type": "markdown",
      "metadata": {
        "id": "vRv6dI2_FwJI"
      },
      "source": [
        "### (1) 上記のモデルサイズ推定プログラムの問題点"
      ]
    },
    {
      "cell_type": "markdown",
      "metadata": {
        "id": "vleMTconFwJI"
      },
      "source": [
        "上記の推定プログラムでは、レイヤごとの訓練可能パラメータ（重み）と訓練不可パラメータおよび出力テンソルのサイズを合計して、モデルの使用メモリサイズを推定している。\n",
        "\n",
        "これは推論時を想定した計算であり、訓練時のバックプロパゲーションの勾配計算に必要なメモリを想定していない。\n",
        "\n",
        "また、次の実験が示すように、実質的に同じ計算グラフを生成するモデルでも、記述方法が異なると計算が異なってしまうという問題を抱えている。"
      ]
    },
    {
      "cell_type": "markdown",
      "metadata": {
        "id": "5nScl3IRFwJI"
      },
      "source": [
        "#### Activationを別レイヤにした場合の計算"
      ]
    },
    {
      "cell_type": "code",
      "execution_count": 15,
      "metadata": {
        "colab": {
          "base_uri": "https://localhost:8080/"
        },
        "id": "il-FqzQmFwJJ",
        "outputId": "8e0c7372-1ceb-45e9-a934-3d76fbeaf684"
      },
      "outputs": [
        {
          "output_type": "stream",
          "name": "stdout",
          "text": [
            "Model: \"3dcnn-2\"\n",
            "_________________________________________________________________\n",
            " Layer (type)                Output Shape              Param #   \n",
            "=================================================================\n",
            " input_2 (InputLayer)        [(None, 150, 300, 150, 3  0         \n",
            "                             )]                                  \n",
            "                                                                 \n",
            " conv3d_4 (Conv3D)           (None, 148, 298, 148, 64  5248      \n",
            "                             )                                   \n",
            "                                                                 \n",
            " activation_1 (Activation)   (None, 148, 298, 148, 64  0         \n",
            "                             )                                   \n",
            "                                                                 \n",
            " max_pooling3d_4 (MaxPooling  (None, 74, 149, 74, 64)  0         \n",
            " 3D)                                                             \n",
            "                                                                 \n",
            " batch_normalization_4 (Batc  (None, 74, 149, 74, 64)  256       \n",
            " hNormalization)                                                 \n",
            "                                                                 \n",
            " conv3d_5 (Conv3D)           (None, 72, 147, 72, 64)   110656    \n",
            "                                                                 \n",
            " activation_2 (Activation)   (None, 72, 147, 72, 64)   0         \n",
            "                                                                 \n",
            " max_pooling3d_5 (MaxPooling  (None, 36, 73, 36, 64)   0         \n",
            " 3D)                                                             \n",
            "                                                                 \n",
            " batch_normalization_5 (Batc  (None, 36, 73, 36, 64)   256       \n",
            " hNormalization)                                                 \n",
            "                                                                 \n",
            " conv3d_6 (Conv3D)           (None, 34, 71, 34, 128)   221312    \n",
            "                                                                 \n",
            " activation_3 (Activation)   (None, 34, 71, 34, 128)   0         \n",
            "                                                                 \n",
            " max_pooling3d_6 (MaxPooling  (None, 17, 35, 17, 128)  0         \n",
            " 3D)                                                             \n",
            "                                                                 \n",
            " batch_normalization_6 (Batc  (None, 17, 35, 17, 128)  512       \n",
            " hNormalization)                                                 \n",
            "                                                                 \n",
            " conv3d_7 (Conv3D)           (None, 15, 33, 15, 256)   884992    \n",
            "                                                                 \n",
            " activation_4 (Activation)   (None, 15, 33, 15, 256)   0         \n",
            "                                                                 \n",
            " max_pooling3d_7 (MaxPooling  (None, 7, 16, 7, 256)    0         \n",
            " 3D)                                                             \n",
            "                                                                 \n",
            " batch_normalization_7 (Batc  (None, 7, 16, 7, 256)    1024      \n",
            " hNormalization)                                                 \n",
            "                                                                 \n",
            " global_average_pooling3d_1   (None, 256)              0         \n",
            " (GlobalAveragePooling3D)                                        \n",
            "                                                                 \n",
            " dense_2 (Dense)             (None, 512)               131584    \n",
            "                                                                 \n",
            " dropout_1 (Dropout)         (None, 512)               0         \n",
            "                                                                 \n",
            " dense_3 (Dense)             (None, 10)                5130      \n",
            "                                                                 \n",
            " activation_5 (Activation)   (None, 10)                0         \n",
            "                                                                 \n",
            "=================================================================\n",
            "Total params: 1,360,970\n",
            "Trainable params: 1,359,946\n",
            "Non-trainable params: 1,024\n",
            "_________________________________________________________________\n"
          ]
        }
      ],
      "source": [
        "def get_model(width=128, height=128, depth=64, channel=1):\n",
        "    \"\"\"Build a 3D convolutional neural network model.\"\"\"\n",
        "\n",
        "    inputs = keras.Input((width, height, depth, channel))\n",
        "\n",
        "    x = layers.Conv3D(filters=64, kernel_size=3)(inputs)\n",
        "    x = layers.Activation(tf.keras.activations.relu)(x)\n",
        "    x = layers.MaxPool3D(pool_size=2)(x)\n",
        "    x = layers.BatchNormalization()(x)\n",
        "\n",
        "    x = layers.Conv3D(filters=64, kernel_size=3)(x)\n",
        "    x = layers.Activation(tf.keras.activations.relu)(x)\n",
        "    x = layers.MaxPool3D(pool_size=2)(x)\n",
        "    x = layers.BatchNormalization()(x)\n",
        "\n",
        "    x = layers.Conv3D(filters=128, kernel_size=3)(x)\n",
        "    x = layers.Activation(tf.keras.activations.relu)(x)\n",
        "    x = layers.MaxPool3D(pool_size=2)(x)\n",
        "    x = layers.BatchNormalization()(x)\n",
        "\n",
        "    x = layers.Conv3D(filters=256, kernel_size=3)(x)\n",
        "    x = layers.Activation(tf.keras.activations.relu)(x)\n",
        "    x = layers.MaxPool3D(pool_size=2)(x)\n",
        "    x = layers.BatchNormalization()(x)\n",
        "\n",
        "    x = layers.GlobalAveragePooling3D()(x)\n",
        "    x = layers.Dense(units=512)(x)\n",
        "    x = layers.Dropout(0.3)(x)\n",
        "\n",
        "    x = layers.Dense(units=10)(x)\n",
        "    outputs = layers.Activation(tf.keras.activations.softmax)(x)\n",
        "\n",
        "    # Define the model.\n",
        "    model = keras.Model(inputs, outputs, name=\"3dcnn-2\")\n",
        "    return model\n",
        "\n",
        "\n",
        "# Build model.\n",
        "model = get_model(width=150, height=300, depth=150, channel=3)\n",
        "model.summary()"
      ]
    },
    {
      "cell_type": "code",
      "execution_count": 16,
      "metadata": {
        "colab": {
          "base_uri": "https://localhost:8080/"
        },
        "outputId": "f04d81e4-8871-4c21-d0b2-16014fbaddf9",
        "id": "NoO125n5FwJJ"
      },
      "outputs": [
        {
          "output_type": "stream",
          "name": "stdout",
          "text": [
            "Batch Size:2 , Memory Usage: 4.167GB\n",
            "Batch Size:4 , Memory Usage: 8.332GB\n",
            "Batch Size:8 , Memory Usage: 16.661GB\n",
            "Batch Size:16 , Memory Usage: 33.319GB\n",
            "Batch Size:32 , Memory Usage: 66.635GB\n"
          ]
        }
      ],
      "source": [
        "for batch_size in [2, 4, 8, 16, 32]:\n",
        "  mem_size = get_model_memory_usage_mixed_mode(batch_size, model)\n",
        "  print(\"Batch Size:{} , Memory Usage: {}GB\".format(batch_size, mem_size))"
      ]
    },
    {
      "cell_type": "markdown",
      "metadata": {
        "id": "J-c84IwRFwJJ"
      },
      "source": [
        "上記のように、Activationをレイヤとして定義すると、メモリ推定量が増加する。"
      ]
    },
    {
      "cell_type": "markdown",
      "metadata": {
        "id": "rjMmDGorFwJJ"
      },
      "source": [
        "### (2)TensorFlowから見たメモリアロケーションとnvidia-smiでの数値の差"
      ]
    },
    {
      "cell_type": "markdown",
      "metadata": {
        "id": "4qop8RNuFwJK"
      },
      "source": [
        "TensorFlowから見たget_memory_infoで得られるメモリアロケーションのピーク値とnvidia-smiで確認したメモリ占有量が異なり、後者が大きくなっている理由として考えられるのは、リリース後のメモリが再利用されずメモリフラグメンテーションが起きている可能性がある。"
      ]
    },
    {
      "cell_type": "markdown",
      "metadata": {
        "id": "qGozgjYaFwJK"
      },
      "source": [
        "### (3)精度の高いメモリサイズ推定法について"
      ]
    },
    {
      "cell_type": "markdown",
      "metadata": {
        "id": "UPWUHh3WFwJK"
      },
      "source": [
        "単にバックプロパゲーション時の勾配計算用のメモリだけであれば、これまでの計算のメモリサイズを2倍にすれば大きな差はないはずであるが、実際に確保されたメモリーを見ると3倍から4倍のメモリーが必要と考えられる。\n",
        "\n",
        "深層学習モデルの学習に必要なメモリサイズに関する研究では、Microsoftが下記の論文を発表している。\n",
        "\n",
        "https://www.microsoft.com/en-us/research/uploads/prod/2020/09/dnnmem.pdf\n",
        "\n",
        "この論文では、TensorFlow、PyTorch、MXNetについて、その計算グラフやモデルのソースコード、訓練用パラメータから必要メモリを推定するアルゴリズムを紹介しているが、残念ながら計算プログラムDNNMemについては公開されていない。"
      ]
    },
    {
      "cell_type": "code",
      "execution_count": 16,
      "metadata": {
        "id": "AVRE5W91FwJK"
      },
      "outputs": [],
      "source": [
        ""
      ]
    }
  ],
  "metadata": {
    "colab": {
      "collapsed_sections": [],
      "name": "TensorFlow_Model_Size_Estimations_in_Mixed_Mode.ipynb",
      "provenance": []
    },
    "kernelspec": {
      "display_name": "Python 3 (ipykernel)",
      "language": "python",
      "name": "python3"
    },
    "language_info": {
      "codemirror_mode": {
        "name": "ipython",
        "version": 3
      },
      "file_extension": ".py",
      "mimetype": "text/x-python",
      "name": "python",
      "nbconvert_exporter": "python",
      "pygments_lexer": "ipython3",
      "version": "3.8.10"
    },
    "accelerator": "GPU"
  },
  "nbformat": 4,
  "nbformat_minor": 0
}