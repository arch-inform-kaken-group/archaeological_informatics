{
 "cells": [
  {
   "cell_type": "markdown",
   "metadata": {
    "id": "M2GZ5GQYhXh8"
   },
   "source": [
    "# TensorFlowでのモデルサイズ推定"
   ]
  },
  {
   "cell_type": "code",
   "execution_count": 1,
   "metadata": {
    "id": "Lrlni6QtsRv7"
   },
   "outputs": [],
   "source": [
    "import numpy as np\n",
    "from collections import defaultdict\n",
    "import tensorflow as tf\n",
    "\n",
    "from tensorflow import keras\n",
    "from tensorflow.keras import layers"
   ]
  },
  {
   "cell_type": "markdown",
   "metadata": {
    "id": "x4PpSBpWaOjf"
   },
   "source": [
    "## モデルサイズ計算関数\n",
    "\n",
    "下記のページのプログラム\n",
    "https://stackoverflow.com/questions/43137288/how-to-determine-needed-memory-of-keras-model\n",
    "では、混合精度演算には対応していないため、モデル中の各レイヤのdtype_policyを元にデータサイズを推定するように修正を試みた。\n",
    "\n",
    "また、訓練時のバックプロパゲーションでの購買計算を考慮し、メモリサイズを2倍とした。"
   ]
  },
  {
   "cell_type": "code",
   "execution_count": 2,
   "metadata": {
    "id": "eL35piB1cUSs"
   },
   "outputs": [],
   "source": [
    "def get_model_memory_usage_mixed_mode(batch_size, model):\n",
    "    import numpy as np\n",
    "    try:\n",
    "        from keras import backend as K\n",
    "    except:\n",
    "        from tensorflow.keras import backend as K\n",
    "\n",
    "    def get_bytes(dtype_policy_name):\n",
    "        if dtype_policy_name == 'float16':\n",
    "            return 2\n",
    "        elif dtype_policy_name == 'float32':\n",
    "            return 4\n",
    "        elif dtype_policy_name == 'float64':\n",
    "            return 8\n",
    "        if dtype_policy_name == 'mixed_float16':\n",
    "            return 2\n",
    "        if dtype_policy_name == 'mixed_bfloat16':\n",
    "            return 2\n",
    "        else:\n",
    "            raise \"unknow dtype_plocy;{}\".format(dtype_policy_name)\n",
    "    \n",
    "    internal_model_mem_count = 0\n",
    "    trainable_count = 0\n",
    "    non_trainable_count = 0\n",
    "    total_memory = 0\n",
    "    detail_dict = {}\n",
    "    for l in model.layers:\n",
    "        layer_type = l.__class__.__name__\n",
    "        layer_name = l.name\n",
    "        if layer_type == 'Model':\n",
    "            model_size, model_detail = get_model_memory_usage_mixed_mode(batch_size, l)\n",
    "            internal_model_mem_count += model_size\n",
    "            detail_dict[layer_name] = model_detail\n",
    "        single_layer_mem = 1\n",
    "        out_shape = l.output_shape\n",
    "        if type(out_shape) is list:\n",
    "            out_shape = out_shape[0]\n",
    "        for s in out_shape:\n",
    "            if s is None:\n",
    "                continue\n",
    "            single_layer_mem *= s\n",
    " \n",
    "        trainable_count = np.sum([K.count_params(p) for p in l.trainable_weights])\n",
    "        non_trainable_count = np.sum([K.count_params(p) for p in l.non_trainable_weights])\n",
    "        \n",
    "        detail_dict[layer_name] = {\"trainable\": trainable_count,\n",
    "                                   \"non_trainable\": non_trainable_count,\n",
    "                                   \"output\": single_layer_mem}\n",
    "\n",
    "        total_memory += get_bytes(l.dtype_policy.name) * batch_size * single_layer_mem * 2 # for Back Propagation\n",
    "        total_memory += get_bytes(l.dtype_policy.name) * (trainable_count + non_trainable_count) * 2 # for Back Propagation\n",
    "    gbytes = np.round(total_memory / (1024.0 ** 3), 3) + internal_model_mem_count\n",
    "    return gbytes, detail_dict"
   ]
  },
  {
   "cell_type": "code",
   "execution_count": 3,
   "metadata": {},
   "outputs": [],
   "source": [
    "def print_summary(detail_dict):\n",
    "    total_dict = defaultdict(lambda:0)\n",
    "    for value in detail_dict.values():\n",
    "        for k,v in value.items():\n",
    "            total_dict[k] += v\n",
    "    print(\"Trainable Prameters:\", total_dict[\"trainable\"])\n",
    "    print(\"Non Trainable Parameters:\", total_dict[\"non_trainable\"])\n",
    "    print(\"Variables:\", total_dict[\"output\"])"
   ]
  },
  {
   "cell_type": "markdown",
   "metadata": {
    "id": "qBIxE_CQh5I3"
   },
   "source": [
    "## PointNetモデルの場合\n",
    "\n",
    "下記のページより  \n",
    "https://keras.io/examples/vision/pointnet/"
   ]
  },
  {
   "cell_type": "code",
   "execution_count": 4,
   "metadata": {
    "id": "McAotA43N1RB"
   },
   "outputs": [],
   "source": [
    "NUM_POINTS = 650000\n",
    "NUM_CLASSES = 10"
   ]
  },
  {
   "cell_type": "code",
   "execution_count": 5,
   "metadata": {
    "id": "D0cyCTUBN_D_"
   },
   "outputs": [],
   "source": [
    "def conv_bn(x, filters):\n",
    "    x = layers.Conv1D(filters, kernel_size=1, padding=\"valid\")(x)\n",
    "    x = layers.BatchNormalization(momentum=0.0)(x)\n",
    "    return layers.Activation(\"relu\")(x)\n",
    "\n",
    "\n",
    "def dense_bn(x, filters):\n",
    "    x = layers.Dense(filters)(x)\n",
    "    x = layers.BatchNormalization(momentum=0.0)(x)\n",
    "    return layers.Activation(\"relu\")(x)\n"
   ]
  },
  {
   "cell_type": "code",
   "execution_count": 6,
   "metadata": {
    "id": "rhxrlJpfOAq8"
   },
   "outputs": [],
   "source": [
    "class OrthogonalRegularizer(keras.regularizers.Regularizer):\n",
    "    def __init__(self, num_features, l2reg=0.001):\n",
    "        self.num_features = num_features\n",
    "        self.l2reg = l2reg\n",
    "        self.eye = tf.eye(num_features)\n",
    "\n",
    "    def __call__(self, x):\n",
    "        x = tf.reshape(x, (-1, self.num_features, self.num_features))\n",
    "        xxt = tf.tensordot(x, x, axes=(2, 2))\n",
    "        xxt = tf.reshape(xxt, (-1, self.num_features, self.num_features))\n",
    "        return tf.reduce_sum(self.l2reg * tf.square(xxt - self.eye))"
   ]
  },
  {
   "cell_type": "code",
   "execution_count": 7,
   "metadata": {
    "id": "PsGn7chbgXiA"
   },
   "outputs": [],
   "source": [
    "def tnet(inputs, num_features):\n",
    "\n",
    "    # Initalise bias as the indentity matrix\n",
    "    bias = keras.initializers.Constant(np.eye(num_features).flatten())\n",
    "    reg = OrthogonalRegularizer(num_features)\n",
    "\n",
    "    x = conv_bn(inputs, 32)\n",
    "    x = conv_bn(x, 64)\n",
    "    x = conv_bn(x, 512)\n",
    "    x = layers.GlobalMaxPooling1D()(x)\n",
    "    x = dense_bn(x, 256)\n",
    "    x = dense_bn(x, 128)\n",
    "    x = layers.Dense(\n",
    "        num_features * num_features,\n",
    "        kernel_initializer=\"zeros\",\n",
    "        bias_initializer=bias,\n",
    "        activity_regularizer=reg,\n",
    "    )(x)\n",
    "    feat_T = layers.Reshape((num_features, num_features))(x)\n",
    "    # Apply affine transformation to input features\n",
    "    return layers.Dot(axes=(2, 1))([inputs, feat_T])"
   ]
  },
  {
   "cell_type": "code",
   "execution_count": 8,
   "metadata": {
    "colab": {
     "base_uri": "https://localhost:8080/"
    },
    "id": "qgNovk4wOJU2",
    "outputId": "ed5f2302-bd15-4562-b1b8-a7479157c2d5"
   },
   "outputs": [
    {
     "name": "stderr",
     "output_type": "stream",
     "text": [
      "2022-06-10 15:58:12.209374: I tensorflow/core/platform/cpu_feature_guard.cc:151] This TensorFlow binary is optimized with oneAPI Deep Neural Network Library (oneDNN) to use the following CPU instructions in performance-critical operations:  SSE4.1 SSE4.2 AVX AVX2 FMA\n",
      "To enable them in other operations, rebuild TensorFlow with the appropriate compiler flags.\n"
     ]
    },
    {
     "name": "stdout",
     "output_type": "stream",
     "text": [
      "Model: \"pointnet\"\n",
      "__________________________________________________________________________________________________\n",
      " Layer (type)                   Output Shape         Param #     Connected to                     \n",
      "==================================================================================================\n",
      " input_1 (InputLayer)           [(None, 650000, 6)]  0           []                               \n",
      "                                                                                                  \n",
      " conv1d (Conv1D)                (None, 650000, 32)   224         ['input_1[0][0]']                \n",
      "                                                                                                  \n",
      " batch_normalization (BatchNorm  (None, 650000, 32)  128         ['conv1d[0][0]']                 \n",
      " alization)                                                                                       \n",
      "                                                                                                  \n",
      " activation (Activation)        (None, 650000, 32)   0           ['batch_normalization[0][0]']    \n",
      "                                                                                                  \n",
      " conv1d_1 (Conv1D)              (None, 650000, 64)   2112        ['activation[0][0]']             \n",
      "                                                                                                  \n",
      " batch_normalization_1 (BatchNo  (None, 650000, 64)  256         ['conv1d_1[0][0]']               \n",
      " rmalization)                                                                                     \n",
      "                                                                                                  \n",
      " activation_1 (Activation)      (None, 650000, 64)   0           ['batch_normalization_1[0][0]']  \n",
      "                                                                                                  \n",
      " conv1d_2 (Conv1D)              (None, 650000, 512)  33280       ['activation_1[0][0]']           \n",
      "                                                                                                  \n",
      " batch_normalization_2 (BatchNo  (None, 650000, 512)  2048       ['conv1d_2[0][0]']               \n",
      " rmalization)                                                                                     \n",
      "                                                                                                  \n",
      " activation_2 (Activation)      (None, 650000, 512)  0           ['batch_normalization_2[0][0]']  \n",
      "                                                                                                  \n",
      " global_max_pooling1d (GlobalMa  (None, 512)         0           ['activation_2[0][0]']           \n",
      " xPooling1D)                                                                                      \n",
      "                                                                                                  \n",
      " dense (Dense)                  (None, 256)          131328      ['global_max_pooling1d[0][0]']   \n",
      "                                                                                                  \n",
      " batch_normalization_3 (BatchNo  (None, 256)         1024        ['dense[0][0]']                  \n",
      " rmalization)                                                                                     \n",
      "                                                                                                  \n",
      " activation_3 (Activation)      (None, 256)          0           ['batch_normalization_3[0][0]']  \n",
      "                                                                                                  \n",
      " dense_1 (Dense)                (None, 128)          32896       ['activation_3[0][0]']           \n",
      "                                                                                                  \n",
      " batch_normalization_4 (BatchNo  (None, 128)         512         ['dense_1[0][0]']                \n",
      " rmalization)                                                                                     \n",
      "                                                                                                  \n",
      " activation_4 (Activation)      (None, 128)          0           ['batch_normalization_4[0][0]']  \n",
      "                                                                                                  \n",
      " dense_2 (Dense)                (None, 36)           4644        ['activation_4[0][0]']           \n",
      "                                                                                                  \n",
      " reshape (Reshape)              (None, 6, 6)         0           ['dense_2[0][0]']                \n",
      "                                                                                                  \n",
      " dot (Dot)                      (None, 650000, 6)    0           ['input_1[0][0]',                \n",
      "                                                                  'reshape[0][0]']                \n",
      "                                                                                                  \n",
      " conv1d_3 (Conv1D)              (None, 650000, 32)   224         ['dot[0][0]']                    \n",
      "                                                                                                  \n",
      " batch_normalization_5 (BatchNo  (None, 650000, 32)  128         ['conv1d_3[0][0]']               \n",
      " rmalization)                                                                                     \n",
      "                                                                                                  \n",
      " activation_5 (Activation)      (None, 650000, 32)   0           ['batch_normalization_5[0][0]']  \n",
      "                                                                                                  \n",
      " conv1d_4 (Conv1D)              (None, 650000, 32)   1056        ['activation_5[0][0]']           \n",
      "                                                                                                  \n",
      " batch_normalization_6 (BatchNo  (None, 650000, 32)  128         ['conv1d_4[0][0]']               \n",
      " rmalization)                                                                                     \n",
      "                                                                                                  \n",
      " activation_6 (Activation)      (None, 650000, 32)   0           ['batch_normalization_6[0][0]']  \n",
      "                                                                                                  \n",
      " conv1d_5 (Conv1D)              (None, 650000, 32)   1056        ['activation_6[0][0]']           \n",
      "                                                                                                  \n",
      " batch_normalization_7 (BatchNo  (None, 650000, 32)  128         ['conv1d_5[0][0]']               \n",
      " rmalization)                                                                                     \n",
      "                                                                                                  \n",
      " activation_7 (Activation)      (None, 650000, 32)   0           ['batch_normalization_7[0][0]']  \n",
      "                                                                                                  \n",
      " conv1d_6 (Conv1D)              (None, 650000, 64)   2112        ['activation_7[0][0]']           \n",
      "                                                                                                  \n",
      " batch_normalization_8 (BatchNo  (None, 650000, 64)  256         ['conv1d_6[0][0]']               \n",
      " rmalization)                                                                                     \n",
      "                                                                                                  \n",
      " activation_8 (Activation)      (None, 650000, 64)   0           ['batch_normalization_8[0][0]']  \n",
      "                                                                                                  \n",
      " conv1d_7 (Conv1D)              (None, 650000, 512)  33280       ['activation_8[0][0]']           \n",
      "                                                                                                  \n",
      " batch_normalization_9 (BatchNo  (None, 650000, 512)  2048       ['conv1d_7[0][0]']               \n",
      " rmalization)                                                                                     \n",
      "                                                                                                  \n",
      " activation_9 (Activation)      (None, 650000, 512)  0           ['batch_normalization_9[0][0]']  \n",
      "                                                                                                  \n",
      " global_max_pooling1d_1 (Global  (None, 512)         0           ['activation_9[0][0]']           \n",
      " MaxPooling1D)                                                                                    \n",
      "                                                                                                  \n",
      " dense_3 (Dense)                (None, 256)          131328      ['global_max_pooling1d_1[0][0]'] \n",
      "                                                                                                  \n",
      " batch_normalization_10 (BatchN  (None, 256)         1024        ['dense_3[0][0]']                \n",
      " ormalization)                                                                                    \n",
      "                                                                                                  \n",
      " activation_10 (Activation)     (None, 256)          0           ['batch_normalization_10[0][0]'] \n",
      "                                                                                                  \n",
      " dense_4 (Dense)                (None, 128)          32896       ['activation_10[0][0]']          \n",
      "                                                                                                  \n",
      " batch_normalization_11 (BatchN  (None, 128)         512         ['dense_4[0][0]']                \n",
      " ormalization)                                                                                    \n",
      "                                                                                                  \n",
      " activation_11 (Activation)     (None, 128)          0           ['batch_normalization_11[0][0]'] \n",
      "                                                                                                  \n",
      " dense_5 (Dense)                (None, 1024)         132096      ['activation_11[0][0]']          \n",
      "                                                                                                  \n",
      " reshape_1 (Reshape)            (None, 32, 32)       0           ['dense_5[0][0]']                \n",
      "                                                                                                  \n",
      " dot_1 (Dot)                    (None, 650000, 32)   0           ['activation_6[0][0]',           \n",
      "                                                                  'reshape_1[0][0]']              \n",
      "                                                                                                  \n",
      " conv1d_8 (Conv1D)              (None, 650000, 32)   1056        ['dot_1[0][0]']                  \n",
      "                                                                                                  \n",
      " batch_normalization_12 (BatchN  (None, 650000, 32)  128         ['conv1d_8[0][0]']               \n",
      " ormalization)                                                                                    \n",
      "                                                                                                  \n",
      " activation_12 (Activation)     (None, 650000, 32)   0           ['batch_normalization_12[0][0]'] \n",
      "                                                                                                  \n",
      " conv1d_9 (Conv1D)              (None, 650000, 64)   2112        ['activation_12[0][0]']          \n",
      "                                                                                                  \n",
      " batch_normalization_13 (BatchN  (None, 650000, 64)  256         ['conv1d_9[0][0]']               \n",
      " ormalization)                                                                                    \n",
      "                                                                                                  \n",
      " activation_13 (Activation)     (None, 650000, 64)   0           ['batch_normalization_13[0][0]'] \n",
      "                                                                                                  \n",
      " conv1d_10 (Conv1D)             (None, 650000, 512)  33280       ['activation_13[0][0]']          \n",
      "                                                                                                  \n",
      " batch_normalization_14 (BatchN  (None, 650000, 512)  2048       ['conv1d_10[0][0]']              \n",
      " ormalization)                                                                                    \n",
      "                                                                                                  \n",
      " activation_14 (Activation)     (None, 650000, 512)  0           ['batch_normalization_14[0][0]'] \n",
      "                                                                                                  \n",
      " global_max_pooling1d_2 (Global  (None, 512)         0           ['activation_14[0][0]']          \n",
      " MaxPooling1D)                                                                                    \n",
      "                                                                                                  \n",
      " dense_6 (Dense)                (None, 256)          131328      ['global_max_pooling1d_2[0][0]'] \n",
      "                                                                                                  \n",
      " batch_normalization_15 (BatchN  (None, 256)         1024        ['dense_6[0][0]']                \n",
      " ormalization)                                                                                    \n",
      "                                                                                                  \n",
      " activation_15 (Activation)     (None, 256)          0           ['batch_normalization_15[0][0]'] \n",
      "                                                                                                  \n",
      " dropout (Dropout)              (None, 256)          0           ['activation_15[0][0]']          \n",
      "                                                                                                  \n",
      " dense_7 (Dense)                (None, 128)          32896       ['dropout[0][0]']                \n",
      "                                                                                                  \n",
      " batch_normalization_16 (BatchN  (None, 128)         512         ['dense_7[0][0]']                \n",
      " ormalization)                                                                                    \n",
      "                                                                                                  \n",
      " activation_16 (Activation)     (None, 128)          0           ['batch_normalization_16[0][0]'] \n",
      "                                                                                                  \n",
      " dropout_1 (Dropout)            (None, 128)          0           ['activation_16[0][0]']          \n",
      "                                                                                                  \n",
      " dense_8 (Dense)                (None, 10)           1290        ['dropout_1[0][0]']              \n",
      "                                                                                                  \n",
      " activation_17 (Activation)     (None, 10)           0           ['dense_8[0][0]']                \n",
      "                                                                                                  \n",
      "==================================================================================================\n",
      "Total params: 752,654\n",
      "Trainable params: 746,574\n",
      "Non-trainable params: 6,080\n",
      "__________________________________________________________________________________________________\n"
     ]
    }
   ],
   "source": [
    "inputs = keras.Input(shape=(NUM_POINTS, 6))\n",
    "\n",
    "x = tnet(inputs, 6)\n",
    "x = conv_bn(x, 32)\n",
    "x = conv_bn(x, 32)\n",
    "x = tnet(x, 32)\n",
    "x = conv_bn(x, 32)\n",
    "x = conv_bn(x, 64)\n",
    "x = conv_bn(x, 512)\n",
    "x = layers.GlobalMaxPooling1D()(x)\n",
    "x = dense_bn(x, 256)\n",
    "x = layers.Dropout(0.3)(x)\n",
    "x = dense_bn(x, 128)\n",
    "x = layers.Dropout(0.3)(x)\n",
    "\n",
    "x = layers.Dense(NUM_CLASSES, activation=\"softmax\")(x)\n",
    "outputs = layers.Activation(\"softmax\")(x)\n",
    "\n",
    "model = keras.Model(inputs=inputs, outputs=outputs, name=\"pointnet\")\n",
    "model.summary()\n"
   ]
  },
  {
   "cell_type": "code",
   "execution_count": 9,
   "metadata": {
    "colab": {
     "base_uri": "https://localhost:8080/"
    },
    "id": "OIJiROHpvVya",
    "outputId": "454d91bf-d8df-43a7-b19b-293d6c5762ed"
   },
   "outputs": [
    {
     "name": "stdout",
     "output_type": "stream",
     "text": [
      "Batch Size:4 , Memory Usage: 110.578 GB\n",
      "Trainable Prameters: 746574.0\n",
      "Non Trainable Parameters: 6080.0\n",
      "Variables: 3710207516\n",
      "Batch Size:8 , Memory Usage: 221.151 GB\n",
      "Trainable Prameters: 746574.0\n",
      "Non Trainable Parameters: 6080.0\n",
      "Variables: 3710207516\n",
      "Batch Size:16 , Memory Usage: 442.297 GB\n",
      "Trainable Prameters: 746574.0\n",
      "Non Trainable Parameters: 6080.0\n",
      "Variables: 3710207516\n",
      "Batch Size:32 , Memory Usage: 884.588 GB\n",
      "Trainable Prameters: 746574.0\n",
      "Non Trainable Parameters: 6080.0\n",
      "Variables: 3710207516\n"
     ]
    }
   ],
   "source": [
    "for batch_size in [4, 8, 16, 32]:\n",
    "    mem_size, detail_dict = get_model_memory_usage_mixed_mode(batch_size, model)\n",
    "    print(\"Batch Size:{} , Memory Usage: {} GB\".format(batch_size, mem_size))\n",
    "    print_summary(detail_dict)"
   ]
  },
  {
   "cell_type": "markdown",
   "metadata": {
    "id": "nSKM2YwDiIAM"
   },
   "source": [
    "## 3D CNNの場合\n",
    "下記のページより  \n",
    "https://keras.io/examples/vision/3D_image_classification/"
   ]
  },
  {
   "cell_type": "code",
   "execution_count": 10,
   "metadata": {
    "colab": {
     "base_uri": "https://localhost:8080/"
    },
    "id": "Q1ZxYB_WsXgD",
    "outputId": "9ce20a20-b30f-42d3-a3c6-f94416403013"
   },
   "outputs": [
    {
     "name": "stdout",
     "output_type": "stream",
     "text": [
      "Model: \"3dcnn\"\n",
      "_________________________________________________________________\n",
      " Layer (type)                Output Shape              Param #   \n",
      "=================================================================\n",
      " input_2 (InputLayer)        [(None, 150, 300, 150, 3  0         \n",
      "                             )]                                  \n",
      "                                                                 \n",
      " conv3d (Conv3D)             (None, 148, 298, 148, 64  5248      \n",
      "                             )                                   \n",
      "                                                                 \n",
      " activation_18 (Activation)  (None, 148, 298, 148, 64  0         \n",
      "                             )                                   \n",
      "                                                                 \n",
      " max_pooling3d (MaxPooling3D  (None, 74, 149, 74, 64)  0         \n",
      " )                                                               \n",
      "                                                                 \n",
      " batch_normalization_17 (Bat  (None, 74, 149, 74, 64)  256       \n",
      " chNormalization)                                                \n",
      "                                                                 \n",
      " conv3d_1 (Conv3D)           (None, 72, 147, 72, 64)   110656    \n",
      "                                                                 \n",
      " activation_19 (Activation)  (None, 72, 147, 72, 64)   0         \n",
      "                                                                 \n",
      " max_pooling3d_1 (MaxPooling  (None, 36, 73, 36, 64)   0         \n",
      " 3D)                                                             \n",
      "                                                                 \n",
      " batch_normalization_18 (Bat  (None, 36, 73, 36, 64)   256       \n",
      " chNormalization)                                                \n",
      "                                                                 \n",
      " conv3d_2 (Conv3D)           (None, 34, 71, 34, 128)   221312    \n",
      "                                                                 \n",
      " activation_20 (Activation)  (None, 34, 71, 34, 128)   0         \n",
      "                                                                 \n",
      " max_pooling3d_2 (MaxPooling  (None, 17, 35, 17, 128)  0         \n",
      " 3D)                                                             \n",
      "                                                                 \n",
      " batch_normalization_19 (Bat  (None, 17, 35, 17, 128)  512       \n",
      " chNormalization)                                                \n",
      "                                                                 \n",
      " conv3d_3 (Conv3D)           (None, 15, 33, 15, 256)   884992    \n",
      "                                                                 \n",
      " activation_21 (Activation)  (None, 15, 33, 15, 256)   0         \n",
      "                                                                 \n",
      " max_pooling3d_3 (MaxPooling  (None, 7, 16, 7, 256)    0         \n",
      " 3D)                                                             \n",
      "                                                                 \n",
      " batch_normalization_20 (Bat  (None, 7, 16, 7, 256)    1024      \n",
      " chNormalization)                                                \n",
      "                                                                 \n",
      " global_average_pooling3d (G  (None, 256)              0         \n",
      " lobalAveragePooling3D)                                          \n",
      "                                                                 \n",
      " dense_9 (Dense)             (None, 512)               131584    \n",
      "                                                                 \n",
      " dropout_2 (Dropout)         (None, 512)               0         \n",
      "                                                                 \n",
      " dense_10 (Dense)            (None, 10)                5130      \n",
      "                                                                 \n",
      " activation_22 (Activation)  (None, 10)                0         \n",
      "                                                                 \n",
      "=================================================================\n",
      "Total params: 1,360,970\n",
      "Trainable params: 1,359,946\n",
      "Non-trainable params: 1,024\n",
      "_________________________________________________________________\n"
     ]
    }
   ],
   "source": [
    "def get_model(width=128, height=128, depth=64, channel=1):\n",
    "    \"\"\"Build a 3D convolutional neural network model.\"\"\"\n",
    "\n",
    "    inputs = keras.Input((width, height, depth, channel))\n",
    "\n",
    "    x = layers.Conv3D(filters=64, kernel_size=3)(inputs)\n",
    "    x = layers.Activation(tf.keras.activations.relu)(x)\n",
    "    x = layers.MaxPool3D(pool_size=2)(x)\n",
    "    x = layers.BatchNormalization()(x)\n",
    "\n",
    "    x = layers.Conv3D(filters=64, kernel_size=3)(x)\n",
    "    x = layers.Activation(tf.keras.activations.relu)(x)\n",
    "    x = layers.MaxPool3D(pool_size=2)(x)\n",
    "    x = layers.BatchNormalization()(x)\n",
    "\n",
    "    x = layers.Conv3D(filters=128, kernel_size=3)(x)\n",
    "    x = layers.Activation(tf.keras.activations.relu)(x)\n",
    "    x = layers.MaxPool3D(pool_size=2)(x)\n",
    "    x = layers.BatchNormalization()(x)\n",
    "\n",
    "    x = layers.Conv3D(filters=256, kernel_size=3)(x)\n",
    "    x = layers.Activation(tf.keras.activations.relu)(x)\n",
    "    x = layers.MaxPool3D(pool_size=2)(x)\n",
    "    x = layers.BatchNormalization()(x)\n",
    "\n",
    "    x = layers.GlobalAveragePooling3D()(x)\n",
    "    x = layers.Dense(units=512)(x)\n",
    "    x = layers.Dropout(0.3)(x)\n",
    "\n",
    "    x = layers.Dense(units=10)(x)\n",
    "    outputs = layers.Activation(tf.keras.activations.softmax)(x)\n",
    "\n",
    "    # Define the model.\n",
    "    model = keras.Model(inputs, outputs, name=\"3dcnn\")\n",
    "    return model\n",
    "\n",
    "\n",
    "# Build model.\n",
    "model = get_model(width=150, height=300, depth=150, channel=3)\n",
    "model.summary()"
   ]
  },
  {
   "cell_type": "code",
   "execution_count": 11,
   "metadata": {
    "colab": {
     "base_uri": "https://localhost:8080/"
    },
    "id": "OIJiROHpvVya",
    "outputId": "454d91bf-d8df-43a7-b19b-293d6c5762ed"
   },
   "outputs": [
    {
     "name": "stdout",
     "output_type": "stream",
     "text": [
      "Batch Size:4 , Memory Usage: 32.723 GB\n",
      "Trainable Prameters: 1359946.0\n",
      "Non Trainable Parameters: 1024.0\n",
      "Variables: 1097651620\n",
      "Batch Size:8 , Memory Usage: 65.435 GB\n",
      "Trainable Prameters: 1359946.0\n",
      "Non Trainable Parameters: 1024.0\n",
      "Variables: 1097651620\n",
      "Batch Size:16 , Memory Usage: 130.86 GB\n",
      "Trainable Prameters: 1359946.0\n",
      "Non Trainable Parameters: 1024.0\n",
      "Variables: 1097651620\n",
      "Batch Size:32 , Memory Usage: 261.711 GB\n",
      "Trainable Prameters: 1359946.0\n",
      "Non Trainable Parameters: 1024.0\n",
      "Variables: 1097651620\n"
     ]
    }
   ],
   "source": [
    "for batch_size in [4, 8, 16, 32]:\n",
    "    mem_size, detail_dict = get_model_memory_usage_mixed_mode(batch_size, model)\n",
    "    print(\"Batch Size:{} , Memory Usage: {} GB\".format(batch_size, mem_size))\n",
    "    print_summary(detail_dict)"
   ]
  },
  {
   "cell_type": "markdown",
   "metadata": {
    "id": "V5Wul2T8cMyg"
   },
   "source": [
    "### 3D-CNN 512x512x512 の場合"
   ]
  },
  {
   "cell_type": "code",
   "execution_count": 18,
   "metadata": {
    "colab": {
     "base_uri": "https://localhost:8080/"
    },
    "id": "5QiZ7yzOcTdg",
    "outputId": "1a220b70-d638-4240-c5db-49712cd4a3a1"
   },
   "outputs": [
    {
     "name": "stdout",
     "output_type": "stream",
     "text": [
      "Model: \"3dcnn\"\n",
      "_________________________________________________________________\n",
      " Layer (type)                Output Shape              Param #   \n",
      "=================================================================\n",
      " input_5 (InputLayer)        [(None, 512, 512, 512, 4  0         \n",
      "                             )]                                  \n",
      "                                                                 \n",
      " conv3d_12 (Conv3D)          (None, 510, 510, 510, 64  6976      \n",
      "                             )                                   \n",
      "                                                                 \n",
      " activation_33 (Activation)  (None, 510, 510, 510, 64  0         \n",
      "                             )                                   \n",
      "                                                                 \n",
      " max_pooling3d_12 (MaxPoolin  (None, 255, 255, 255, 64  0        \n",
      " g3D)                        )                                   \n",
      "                                                                 \n",
      " batch_normalization_29 (Bat  (None, 255, 255, 255, 64  256      \n",
      " chNormalization)            )                                   \n",
      "                                                                 \n",
      " conv3d_13 (Conv3D)          (None, 253, 253, 253, 64  110656    \n",
      "                             )                                   \n",
      "                                                                 \n",
      " activation_34 (Activation)  (None, 253, 253, 253, 64  0         \n",
      "                             )                                   \n",
      "                                                                 \n",
      " max_pooling3d_13 (MaxPoolin  (None, 126, 126, 126, 64  0        \n",
      " g3D)                        )                                   \n",
      "                                                                 \n",
      " batch_normalization_30 (Bat  (None, 126, 126, 126, 64  256      \n",
      " chNormalization)            )                                   \n",
      "                                                                 \n",
      " conv3d_14 (Conv3D)          (None, 124, 124, 124, 12  221312    \n",
      "                             8)                                  \n",
      "                                                                 \n",
      " activation_35 (Activation)  (None, 124, 124, 124, 12  0         \n",
      "                             8)                                  \n",
      "                                                                 \n",
      " max_pooling3d_14 (MaxPoolin  (None, 62, 62, 62, 128)  0         \n",
      " g3D)                                                            \n",
      "                                                                 \n",
      " batch_normalization_31 (Bat  (None, 62, 62, 62, 128)  512       \n",
      " chNormalization)                                                \n",
      "                                                                 \n",
      " conv3d_15 (Conv3D)          (None, 60, 60, 60, 256)   884992    \n",
      "                                                                 \n",
      " activation_36 (Activation)  (None, 60, 60, 60, 256)   0         \n",
      "                                                                 \n",
      " max_pooling3d_15 (MaxPoolin  (None, 30, 30, 30, 256)  0         \n",
      " g3D)                                                            \n",
      "                                                                 \n",
      " batch_normalization_32 (Bat  (None, 30, 30, 30, 256)  1024      \n",
      " chNormalization)                                                \n",
      "                                                                 \n",
      " global_average_pooling3d_3   (None, 256)              0         \n",
      " (GlobalAveragePooling3D)                                        \n",
      "                                                                 \n",
      " dense_15 (Dense)            (None, 512)               131584    \n",
      "                                                                 \n",
      " dropout_5 (Dropout)         (None, 512)               0         \n",
      "                                                                 \n",
      " dense_16 (Dense)            (None, 10)                5130      \n",
      "                                                                 \n",
      " activation_37 (Activation)  (None, 10)                0         \n",
      "                                                                 \n",
      "=================================================================\n",
      "Total params: 1,362,698\n",
      "Trainable params: 1,361,674\n",
      "Non-trainable params: 1,024\n",
      "_________________________________________________________________\n"
     ]
    }
   ],
   "source": [
    "# Build model.\n",
    "model = get_model(width=512, height=512, depth=512, channel=4)\n",
    "model.summary()"
   ]
  },
  {
   "cell_type": "code",
   "execution_count": 19,
   "metadata": {
    "colab": {
     "base_uri": "https://localhost:8080/"
    },
    "id": "OIJiROHpvVya",
    "outputId": "454d91bf-d8df-43a7-b19b-293d6c5762ed"
   },
   "outputs": [
    {
     "name": "stdout",
     "output_type": "stream",
     "text": [
      "Batch Size:4 , Memory Usage: 674.766 GB\n",
      "Trainable Prameters: 1361674.0\n",
      "Non Trainable Parameters: 1024.0\n",
      "Variables: 22641055508\n",
      "Batch Size:8 , Memory Usage: 1349.522 GB\n",
      "Trainable Prameters: 1361674.0\n",
      "Non Trainable Parameters: 1024.0\n",
      "Variables: 22641055508\n",
      "Batch Size:16 , Memory Usage: 2699.034 GB\n",
      "Trainable Prameters: 1361674.0\n",
      "Non Trainable Parameters: 1024.0\n",
      "Variables: 22641055508\n",
      "Batch Size:32 , Memory Usage: 5398.058 GB\n",
      "Trainable Prameters: 1361674.0\n",
      "Non Trainable Parameters: 1024.0\n",
      "Variables: 22641055508\n"
     ]
    }
   ],
   "source": [
    "for batch_size in [4, 8, 16, 32]:\n",
    "    mem_size, detail_dict = get_model_memory_usage_mixed_mode(batch_size, model)\n",
    "    print(\"Batch Size:{} , Memory Usage: {} GB\".format(batch_size, mem_size))\n",
    "    print_summary(detail_dict)"
   ]
  },
  {
   "cell_type": "code",
   "execution_count": null,
   "metadata": {},
   "outputs": [],
   "source": []
  }
 ],
 "metadata": {
  "accelerator": "GPU",
  "colab": {
   "collapsed_sections": [],
   "machine_shape": "hm",
   "name": "TensorFlow_Model_Size_Estimations_with_BP",
   "provenance": []
  },
  "kernelspec": {
   "display_name": "Python 3 (ipykernel)",
   "language": "python",
   "name": "python3"
  },
  "language_info": {
   "codemirror_mode": {
    "name": "ipython",
    "version": 3
   },
   "file_extension": ".py",
   "mimetype": "text/x-python",
   "name": "python",
   "nbconvert_exporter": "python",
   "pygments_lexer": "ipython3",
   "version": "3.10.4"
  }
 },
 "nbformat": 4,
 "nbformat_minor": 4
}
