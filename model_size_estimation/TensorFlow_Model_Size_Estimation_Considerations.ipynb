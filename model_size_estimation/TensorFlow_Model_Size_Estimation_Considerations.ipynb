{
  "cells": [
    {
      "cell_type": "markdown",
      "metadata": {
        "id": "M2GZ5GQYhXh8"
      },
      "source": [
        "# TensorFlowでのモデルサイズ推定に関する考察"
      ]
    },
    {
      "cell_type": "code",
      "execution_count": 1,
      "metadata": {
        "id": "Lrlni6QtsRv7"
      },
      "outputs": [],
      "source": [
        "import numpy as np\n",
        "import tensorflow as tf\n",
        "\n",
        "from tensorflow import keras\n",
        "from tensorflow.keras import layers"
      ]
    },
    {
      "cell_type": "markdown",
      "source": [
        "## 1. 簡便なモデルサイズ計算法と実際のメモリ使用量との比較"
      ],
      "metadata": {
        "id": "heYwYkqSRxoA"
      }
    },
    {
      "cell_type": "markdown",
      "metadata": {
        "id": "d6BIOdoDFwI8"
      },
      "source": [
        "### GPUメモリ確保モードの変更"
      ]
    },
    {
      "cell_type": "markdown",
      "metadata": {
        "id": "T-h2eZJ5FwI9"
      },
      "source": [
        "既定では、利用可能なメモリを一括確保する設定であるため、これを必要の都度確保する設定に変更している。\n",
        "\n",
        "https://www.tensorflow.org/guide/gpu"
      ]
    },
    {
      "cell_type": "code",
      "execution_count": 2,
      "metadata": {
        "id": "I_IJMho9_T79",
        "colab": {
          "base_uri": "https://localhost:8080/"
        },
        "outputId": "50645fa4-9b6a-431f-d353-af274acdff28"
      },
      "outputs": [
        {
          "output_type": "stream",
          "name": "stdout",
          "text": [
            "1 Physical GPUs, 1 Logical GPUs\n"
          ]
        }
      ],
      "source": [
        "gpus = tf.config.experimental.list_physical_devices('GPU')\n",
        "if gpus:\n",
        "  try:\n",
        "    # Currently, memory growth needs to be the same across GPUs\n",
        "    for gpu in gpus:\n",
        "      tf.config.experimental.set_memory_growth(gpu, True)\n",
        "    logical_gpus = tf.config.experimental.list_logical_devices('GPU')\n",
        "    print(len(gpus), \"Physical GPUs,\", len(logical_gpus), \"Logical GPUs\")\n",
        "  except RuntimeError as e:\n",
        "    # Memory growth must be set before GPUs have been initialized\n",
        "    print(e)"
      ]
    },
    {
      "cell_type": "markdown",
      "metadata": {
        "id": "5-9HZM07FwI-"
      },
      "source": [
        "### 開始前のGPUメモリ"
      ]
    },
    {
      "cell_type": "code",
      "execution_count": 3,
      "metadata": {
        "colab": {
          "base_uri": "https://localhost:8080/"
        },
        "id": "_nm0nXBLFwI-",
        "outputId": "0a222f53-79b2-4187-d7e8-264c9260cdc5"
      },
      "outputs": [
        {
          "output_type": "execute_result",
          "data": {
            "text/plain": [
              "{'current': 0, 'peak': 0}"
            ]
          },
          "metadata": {},
          "execution_count": 3
        }
      ],
      "source": [
        "mem_info_before = tf.config.experimental.get_memory_info('GPU:0')\n",
        "mem_info_before"
      ]
    },
    {
      "cell_type": "code",
      "execution_count": 4,
      "metadata": {
        "colab": {
          "base_uri": "https://localhost:8080/"
        },
        "id": "3NHce03pFwI_",
        "outputId": "f11bb45d-30b2-40ca-8143-9daaa72d08af"
      },
      "outputs": [
        {
          "output_type": "stream",
          "name": "stdout",
          "text": [
            "Mon Apr 18 02:19:31 2022       \n",
            "+-----------------------------------------------------------------------------+\n",
            "| NVIDIA-SMI 460.32.03    Driver Version: 460.32.03    CUDA Version: 11.2     |\n",
            "|-------------------------------+----------------------+----------------------+\n",
            "| GPU  Name        Persistence-M| Bus-Id        Disp.A | Volatile Uncorr. ECC |\n",
            "| Fan  Temp  Perf  Pwr:Usage/Cap|         Memory-Usage | GPU-Util  Compute M. |\n",
            "|                               |                      |               MIG M. |\n",
            "|===============================+======================+======================|\n",
            "|   0  Tesla T4            Off  | 00000000:00:04.0 Off |                    0 |\n",
            "| N/A   73C    P0    33W /  70W |    264MiB / 15109MiB |      3%      Default |\n",
            "|                               |                      |                  N/A |\n",
            "+-------------------------------+----------------------+----------------------+\n",
            "                                                                               \n",
            "+-----------------------------------------------------------------------------+\n",
            "| Processes:                                                                  |\n",
            "|  GPU   GI   CI        PID   Type   Process name                  GPU Memory |\n",
            "|        ID   ID                                                   Usage      |\n",
            "|=============================================================================|\n",
            "+-----------------------------------------------------------------------------+\n"
          ]
        }
      ],
      "source": [
        "!nvidia-smi"
      ]
    },
    {
      "cell_type": "markdown",
      "metadata": {
        "id": "rVE6MRSihi-J"
      },
      "source": [
        "### 簡便なモデルサイズ計算関数\n",
        "\n",
        "下記のQ&Aページのプログラムを使用する。  \n",
        "https://stackoverflow.com/questions/43137288/how-to-determine-needed-memory-of-keras-model\n"
      ]
    },
    {
      "cell_type": "code",
      "execution_count": 5,
      "metadata": {
        "id": "eL35piB1cUSs"
      },
      "outputs": [],
      "source": [
        "def get_model_memory_usage(batch_size, model):\n",
        "    import numpy as np\n",
        "    try:\n",
        "        from keras import backend as K\n",
        "    except:\n",
        "        from tensorflow.keras import backend as K\n",
        "\n",
        "    shapes_mem_count = 0\n",
        "    internal_model_mem_count = 0\n",
        "    for l in model.layers:\n",
        "        layer_type = l.__class__.__name__\n",
        "        if layer_type == 'Model':\n",
        "            internal_model_mem_count += get_model_memory_usage(batch_size, l)\n",
        "        single_layer_mem = 1\n",
        "        out_shape = l.output_shape\n",
        "        if type(out_shape) is list:\n",
        "            out_shape = out_shape[0]\n",
        "        for s in out_shape:\n",
        "            if s is None:\n",
        "                continue\n",
        "            single_layer_mem *= s\n",
        "        shapes_mem_count += single_layer_mem\n",
        "\n",
        "    trainable_count = np.sum([K.count_params(p) for p in model.trainable_weights])\n",
        "    non_trainable_count = np.sum([K.count_params(p) for p in model.non_trainable_weights])\n",
        "\n",
        "    number_size = 4.0\n",
        "    if K.floatx() == 'float16':\n",
        "        number_size = 2.0\n",
        "    if K.floatx() == 'float64':\n",
        "        number_size = 8.0\n",
        "\n",
        "    total_memory = number_size * (batch_size * shapes_mem_count + trainable_count + non_trainable_count)\n",
        "    gbytes = np.round(total_memory / (1024.0 ** 3), 3) + internal_model_mem_count\n",
        "    return gbytes"
      ]
    },
    {
      "cell_type": "markdown",
      "metadata": {
        "id": "nSKM2YwDiIAM"
      },
      "source": [
        "### 3D CNNの例\n",
        "下記のページより  \n",
        "https://keras.io/examples/vision/3D_image_classification/"
      ]
    },
    {
      "cell_type": "code",
      "execution_count": 6,
      "metadata": {
        "id": "McAotA43N1RB"
      },
      "outputs": [],
      "source": [
        "NUM_CLASSES = 10"
      ]
    },
    {
      "cell_type": "code",
      "execution_count": 7,
      "metadata": {
        "colab": {
          "base_uri": "https://localhost:8080/"
        },
        "id": "Q1ZxYB_WsXgD",
        "outputId": "20cd343a-ba9d-4fc4-c2ef-053cfbee5c96"
      },
      "outputs": [
        {
          "output_type": "stream",
          "name": "stdout",
          "text": [
            "Model: \"3dcnn\"\n",
            "_________________________________________________________________\n",
            " Layer (type)                Output Shape              Param #   \n",
            "=================================================================\n",
            " input_1 (InputLayer)        [(None, 150, 300, 150, 3  0         \n",
            "                             )]                                  \n",
            "                                                                 \n",
            " conv3d (Conv3D)             (None, 148, 298, 148, 64  5248      \n",
            "                             )                                   \n",
            "                                                                 \n",
            " max_pooling3d (MaxPooling3D  (None, 74, 149, 74, 64)  0         \n",
            " )                                                               \n",
            "                                                                 \n",
            " batch_normalization (BatchN  (None, 74, 149, 74, 64)  256       \n",
            " ormalization)                                                   \n",
            "                                                                 \n",
            " conv3d_1 (Conv3D)           (None, 72, 147, 72, 64)   110656    \n",
            "                                                                 \n",
            " max_pooling3d_1 (MaxPooling  (None, 36, 73, 36, 64)   0         \n",
            " 3D)                                                             \n",
            "                                                                 \n",
            " batch_normalization_1 (Batc  (None, 36, 73, 36, 64)   256       \n",
            " hNormalization)                                                 \n",
            "                                                                 \n",
            " conv3d_2 (Conv3D)           (None, 34, 71, 34, 128)   221312    \n",
            "                                                                 \n",
            " max_pooling3d_2 (MaxPooling  (None, 17, 35, 17, 128)  0         \n",
            " 3D)                                                             \n",
            "                                                                 \n",
            " batch_normalization_2 (Batc  (None, 17, 35, 17, 128)  512       \n",
            " hNormalization)                                                 \n",
            "                                                                 \n",
            " conv3d_3 (Conv3D)           (None, 15, 33, 15, 256)   884992    \n",
            "                                                                 \n",
            " max_pooling3d_3 (MaxPooling  (None, 7, 16, 7, 256)    0         \n",
            " 3D)                                                             \n",
            "                                                                 \n",
            " batch_normalization_3 (Batc  (None, 7, 16, 7, 256)    1024      \n",
            " hNormalization)                                                 \n",
            "                                                                 \n",
            " global_average_pooling3d (G  (None, 256)              0         \n",
            " lobalAveragePooling3D)                                          \n",
            "                                                                 \n",
            " dense (Dense)               (None, 512)               131584    \n",
            "                                                                 \n",
            " dropout (Dropout)           (None, 512)               0         \n",
            "                                                                 \n",
            " dense_1 (Dense)             (None, 10)                5130      \n",
            "                                                                 \n",
            " activation (Activation)     (None, 10)                0         \n",
            "                                                                 \n",
            "=================================================================\n",
            "Total params: 1,360,970\n",
            "Trainable params: 1,359,946\n",
            "Non-trainable params: 1,024\n",
            "_________________________________________________________________\n"
          ]
        }
      ],
      "source": [
        "def get_model(width=128, height=128, depth=64, channel=1):\n",
        "    \"\"\"Build a 3D convolutional neural network model.\"\"\"\n",
        "\n",
        "    inputs = keras.Input((width, height, depth, channel))\n",
        "\n",
        "    x = layers.Conv3D(filters=64, kernel_size=3, activation=\"relu\")(inputs)\n",
        "    x = layers.MaxPool3D(pool_size=2)(x)\n",
        "    x = layers.BatchNormalization()(x)\n",
        "\n",
        "    x = layers.Conv3D(filters=64, kernel_size=3, activation=\"relu\")(x)\n",
        "    x = layers.MaxPool3D(pool_size=2)(x)\n",
        "    x = layers.BatchNormalization()(x)\n",
        "\n",
        "    x = layers.Conv3D(filters=128, kernel_size=3, activation=\"relu\")(x)\n",
        "    x = layers.MaxPool3D(pool_size=2)(x)\n",
        "    x = layers.BatchNormalization()(x)\n",
        "\n",
        "    x = layers.Conv3D(filters=256, kernel_size=3, activation=\"relu\")(x)\n",
        "    x = layers.MaxPool3D(pool_size=2)(x)\n",
        "    x = layers.BatchNormalization()(x)\n",
        "\n",
        "    x = layers.GlobalAveragePooling3D()(x)\n",
        "    x = layers.Dense(units=512, activation=\"relu\")(x)\n",
        "    x = layers.Dropout(0.3)(x)\n",
        "\n",
        "    x = layers.Dense(units=NUM_CLASSES)(x)\n",
        "    outputs = layers.Activation(keras.activations.softmax, dtype='float32')(x)\n",
        "\n",
        "    # Define the model.\n",
        "    model = keras.Model(inputs, outputs, name=\"3dcnn\")\n",
        "    return model\n",
        "\n",
        "\n",
        "# Build model.\n",
        "model = get_model(width=150, height=300, depth=150, channel=3)\n",
        "model.summary()"
      ]
    },
    {
      "cell_type": "markdown",
      "source": [
        "### 各バッチサイズによるモデルサイズ推定"
      ],
      "metadata": {
        "id": "0oVikV3ETc0c"
      }
    },
    {
      "cell_type": "code",
      "execution_count": 8,
      "metadata": {
        "colab": {
          "base_uri": "https://localhost:8080/"
        },
        "id": "x-t47vS5eKMC",
        "outputId": "a092422f-8c6a-4015-d6ca-104842d7810e"
      },
      "outputs": [
        {
          "output_type": "stream",
          "name": "stdout",
          "text": [
            "Batch Size:1 , Memory Usage: 2.31GB\n",
            "Batch Size:2 , Memory Usage: 4.615GB\n",
            "Batch Size:4 , Memory Usage: 9.225GB\n",
            "Batch Size:8 , Memory Usage: 18.444GB\n",
            "Batch Size:16 , Memory Usage: 36.884GB\n",
            "Batch Size:32 , Memory Usage: 73.762GB\n"
          ]
        }
      ],
      "source": [
        "for batch_size in [1, 2, 4, 8, 16, 32]:\n",
        "  mem_size = get_model_memory_usage(batch_size, model)\n",
        "  print(\"Batch Size:{} , Memory Usage: {}GB\".format(batch_size, mem_size))"
      ]
    },
    {
      "cell_type": "markdown",
      "metadata": {
        "id": "-ronk5DNFwJF"
      },
      "source": [
        "### ダミーデータによるモデル訓練"
      ]
    },
    {
      "cell_type": "markdown",
      "source": [
        "Google ColabでのGPUメモリに合わせて、バッチサイズを1で実施する。"
      ],
      "metadata": {
        "id": "NtchsRuLTnLh"
      }
    },
    {
      "cell_type": "code",
      "execution_count": 9,
      "metadata": {
        "id": "kE4f_6N0FwJF"
      },
      "outputs": [],
      "source": [
        "BATCH_SIZE = 1\n",
        "dummy_x = np.random.randn(BATCH_SIZE, 150, 300, 150, 3)\n",
        "dummy_y = np.random.randint(0, 9, size=BATCH_SIZE)"
      ]
    },
    {
      "cell_type": "code",
      "execution_count": 10,
      "metadata": {
        "colab": {
          "base_uri": "https://localhost:8080/"
        },
        "id": "gfpB1ZayFwJG",
        "outputId": "16057e05-48a6-40e8-b267-921b4bf4dc64"
      },
      "outputs": [
        {
          "output_type": "stream",
          "name": "stdout",
          "text": [
            "1/1 [==============================] - 12s 12s/step - loss: 2.3026\n"
          ]
        },
        {
          "output_type": "execute_result",
          "data": {
            "text/plain": [
              "<keras.callbacks.History at 0x7f962fb25d90>"
            ]
          },
          "metadata": {},
          "execution_count": 10
        }
      ],
      "source": [
        "model.compile(optimizer='adam', loss='sparse_categorical_crossentropy')\n",
        "model.fit(dummy_x, dummy_y)"
      ]
    },
    {
      "cell_type": "markdown",
      "metadata": {
        "id": "E-CfUS0bFwJG"
      },
      "source": [
        "### 訓練実行後のGPUメモリ"
      ]
    },
    {
      "cell_type": "code",
      "execution_count": 11,
      "metadata": {
        "id": "kyg447hGFwJG",
        "colab": {
          "base_uri": "https://localhost:8080/"
        },
        "outputId": "fa908e62-070a-4776-c228-6046218c6315"
      },
      "outputs": [
        {
          "output_type": "execute_result",
          "data": {
            "text/plain": [
              "{'current': 152983808, 'peak': 9541989120}"
            ]
          },
          "metadata": {},
          "execution_count": 11
        }
      ],
      "source": [
        "mem_info_after = tf.config.experimental.get_memory_info('GPU:0')\n",
        "mem_info_after"
      ]
    },
    {
      "cell_type": "code",
      "execution_count": 12,
      "metadata": {
        "id": "IeXQ8fn_FwJH",
        "colab": {
          "base_uri": "https://localhost:8080/"
        },
        "outputId": "080e9b0b-6263-444b-b69b-50e43eebcd25"
      },
      "outputs": [
        {
          "output_type": "execute_result",
          "data": {
            "text/plain": [
              "8.886669874191284"
            ]
          },
          "metadata": {},
          "execution_count": 12
        }
      ],
      "source": [
        "peak_allocated_mem_gb = (mem_info_after['peak'] - mem_info_before['peak']) / 1024**3\n",
        "peak_allocated_mem_gb"
      ]
    },
    {
      "cell_type": "markdown",
      "metadata": {
        "id": "E4SBMTP0FwJH"
      },
      "source": [
        "TensorFlowから見ると、推定モデルサイズ2.31GBに対して4倍近くのメモリが確保されている。"
      ]
    },
    {
      "cell_type": "code",
      "execution_count": 13,
      "metadata": {
        "id": "M5ALtoRrFwJH",
        "colab": {
          "base_uri": "https://localhost:8080/"
        },
        "outputId": "ac2cd5ba-561d-428d-d193-de50b16afb89"
      },
      "outputs": [
        {
          "output_type": "stream",
          "name": "stdout",
          "text": [
            "Mon Apr 18 02:19:46 2022       \n",
            "+-----------------------------------------------------------------------------+\n",
            "| NVIDIA-SMI 460.32.03    Driver Version: 460.32.03    CUDA Version: 11.2     |\n",
            "|-------------------------------+----------------------+----------------------+\n",
            "| GPU  Name        Persistence-M| Bus-Id        Disp.A | Volatile Uncorr. ECC |\n",
            "| Fan  Temp  Perf  Pwr:Usage/Cap|         Memory-Usage | GPU-Util  Compute M. |\n",
            "|                               |                      |               MIG M. |\n",
            "|===============================+======================+======================|\n",
            "|   0  Tesla T4            Off  | 00000000:00:04.0 Off |                    0 |\n",
            "| N/A   77C    P0    45W /  70W |  14586MiB / 15109MiB |     14%      Default |\n",
            "|                               |                      |                  N/A |\n",
            "+-------------------------------+----------------------+----------------------+\n",
            "                                                                               \n",
            "+-----------------------------------------------------------------------------+\n",
            "| Processes:                                                                  |\n",
            "|  GPU   GI   CI        PID   Type   Process name                  GPU Memory |\n",
            "|        ID   ID                                                   Usage      |\n",
            "|=============================================================================|\n",
            "+-----------------------------------------------------------------------------+\n"
          ]
        }
      ],
      "source": [
        "!nvidia-smi"
      ]
    },
    {
      "cell_type": "markdown",
      "metadata": {
        "id": "40uoMEnJFwJI"
      },
      "source": [
        "実際には14GB程度のメモリが占有されている。"
      ]
    },
    {
      "cell_type": "markdown",
      "metadata": {
        "id": "_6RW8Sb2FwJI"
      },
      "source": [
        "### 考察"
      ]
    },
    {
      "cell_type": "markdown",
      "metadata": {
        "id": "vRv6dI2_FwJI"
      },
      "source": [
        "#### (1) 上記のモデルサイズ推定プログラムの問題点"
      ]
    },
    {
      "cell_type": "markdown",
      "metadata": {
        "id": "vleMTconFwJI"
      },
      "source": [
        "上記の推定プログラムでは、レイヤごとの訓練可能パラメータ（重み）と訓練不可パラメータおよび出力テンソルのサイズを合計して、モデルの使用メモリサイズを推定している。\n",
        "\n",
        "これは推論時を想定した計算であり、訓練時のバックプロパゲーションの勾配計算に必要なメモリを想定していない。\n",
        "\n",
        "また、次の実験が示すように、実質的に同じ計算グラフを生成するモデルでも、記述方法が異なると計算が異なってしまうという問題を抱えている。"
      ]
    },
    {
      "cell_type": "markdown",
      "metadata": {
        "id": "5nScl3IRFwJI"
      },
      "source": [
        "#### Activationを別レイヤにした場合の計算"
      ]
    },
    {
      "cell_type": "code",
      "execution_count": 14,
      "metadata": {
        "id": "il-FqzQmFwJJ",
        "colab": {
          "base_uri": "https://localhost:8080/"
        },
        "outputId": "af59f6da-e387-4f8a-8852-88dcde26e210"
      },
      "outputs": [
        {
          "output_type": "stream",
          "name": "stdout",
          "text": [
            "Model: \"3dcnn-2\"\n",
            "_________________________________________________________________\n",
            " Layer (type)                Output Shape              Param #   \n",
            "=================================================================\n",
            " input_2 (InputLayer)        [(None, 150, 300, 150, 3  0         \n",
            "                             )]                                  \n",
            "                                                                 \n",
            " conv3d_4 (Conv3D)           (None, 148, 298, 148, 64  5248      \n",
            "                             )                                   \n",
            "                                                                 \n",
            " activation_1 (Activation)   (None, 148, 298, 148, 64  0         \n",
            "                             )                                   \n",
            "                                                                 \n",
            " max_pooling3d_4 (MaxPooling  (None, 74, 149, 74, 64)  0         \n",
            " 3D)                                                             \n",
            "                                                                 \n",
            " batch_normalization_4 (Batc  (None, 74, 149, 74, 64)  256       \n",
            " hNormalization)                                                 \n",
            "                                                                 \n",
            " conv3d_5 (Conv3D)           (None, 72, 147, 72, 64)   110656    \n",
            "                                                                 \n",
            " activation_2 (Activation)   (None, 72, 147, 72, 64)   0         \n",
            "                                                                 \n",
            " max_pooling3d_5 (MaxPooling  (None, 36, 73, 36, 64)   0         \n",
            " 3D)                                                             \n",
            "                                                                 \n",
            " batch_normalization_5 (Batc  (None, 36, 73, 36, 64)   256       \n",
            " hNormalization)                                                 \n",
            "                                                                 \n",
            " conv3d_6 (Conv3D)           (None, 34, 71, 34, 128)   221312    \n",
            "                                                                 \n",
            " activation_3 (Activation)   (None, 34, 71, 34, 128)   0         \n",
            "                                                                 \n",
            " max_pooling3d_6 (MaxPooling  (None, 17, 35, 17, 128)  0         \n",
            " 3D)                                                             \n",
            "                                                                 \n",
            " batch_normalization_6 (Batc  (None, 17, 35, 17, 128)  512       \n",
            " hNormalization)                                                 \n",
            "                                                                 \n",
            " conv3d_7 (Conv3D)           (None, 15, 33, 15, 256)   884992    \n",
            "                                                                 \n",
            " activation_4 (Activation)   (None, 15, 33, 15, 256)   0         \n",
            "                                                                 \n",
            " max_pooling3d_7 (MaxPooling  (None, 7, 16, 7, 256)    0         \n",
            " 3D)                                                             \n",
            "                                                                 \n",
            " batch_normalization_7 (Batc  (None, 7, 16, 7, 256)    1024      \n",
            " hNormalization)                                                 \n",
            "                                                                 \n",
            " global_average_pooling3d_1   (None, 256)              0         \n",
            " (GlobalAveragePooling3D)                                        \n",
            "                                                                 \n",
            " dense_2 (Dense)             (None, 512)               131584    \n",
            "                                                                 \n",
            " dropout_1 (Dropout)         (None, 512)               0         \n",
            "                                                                 \n",
            " dense_3 (Dense)             (None, 10)                5130      \n",
            "                                                                 \n",
            " activation_5 (Activation)   (None, 10)                0         \n",
            "                                                                 \n",
            "=================================================================\n",
            "Total params: 1,360,970\n",
            "Trainable params: 1,359,946\n",
            "Non-trainable params: 1,024\n",
            "_________________________________________________________________\n"
          ]
        }
      ],
      "source": [
        "def get_model(width=128, height=128, depth=64, channel=1):\n",
        "    \"\"\"Build a 3D convolutional neural network model.\"\"\"\n",
        "\n",
        "    inputs = keras.Input((width, height, depth, channel))\n",
        "\n",
        "    x = layers.Conv3D(filters=64, kernel_size=3)(inputs)\n",
        "    x = layers.Activation(tf.keras.activations.relu)(x)\n",
        "    x = layers.MaxPool3D(pool_size=2)(x)\n",
        "    x = layers.BatchNormalization()(x)\n",
        "\n",
        "    x = layers.Conv3D(filters=64, kernel_size=3)(x)\n",
        "    x = layers.Activation(tf.keras.activations.relu)(x)\n",
        "    x = layers.MaxPool3D(pool_size=2)(x)\n",
        "    x = layers.BatchNormalization()(x)\n",
        "\n",
        "    x = layers.Conv3D(filters=128, kernel_size=3)(x)\n",
        "    x = layers.Activation(tf.keras.activations.relu)(x)\n",
        "    x = layers.MaxPool3D(pool_size=2)(x)\n",
        "    x = layers.BatchNormalization()(x)\n",
        "\n",
        "    x = layers.Conv3D(filters=256, kernel_size=3)(x)\n",
        "    x = layers.Activation(tf.keras.activations.relu)(x)\n",
        "    x = layers.MaxPool3D(pool_size=2)(x)\n",
        "    x = layers.BatchNormalization()(x)\n",
        "\n",
        "    x = layers.GlobalAveragePooling3D()(x)\n",
        "    x = layers.Dense(units=512)(x)\n",
        "    x = layers.Dropout(0.3)(x)\n",
        "\n",
        "    x = layers.Dense(units=10)(x)\n",
        "    outputs = layers.Activation(tf.keras.activations.softmax)(x)\n",
        "\n",
        "    # Define the model.\n",
        "    model = keras.Model(inputs, outputs, name=\"3dcnn-2\")\n",
        "    return model\n",
        "\n",
        "\n",
        "# Build model.\n",
        "model = get_model(width=150, height=300, depth=150, channel=3)\n",
        "model.summary()"
      ]
    },
    {
      "cell_type": "code",
      "execution_count": 15,
      "metadata": {
        "id": "NoO125n5FwJJ",
        "colab": {
          "base_uri": "https://localhost:8080/"
        },
        "outputId": "691985dd-c900-4102-e184-0f561ef6bdb4"
      },
      "outputs": [
        {
          "output_type": "stream",
          "name": "stdout",
          "text": [
            "Batch Size:1 , Memory Usage: 4.094GB\n",
            "Batch Size:2 , Memory Usage: 8.183GB\n",
            "Batch Size:4 , Memory Usage: 16.361GB\n",
            "Batch Size:8 , Memory Usage: 32.718GB\n",
            "Batch Size:16 , Memory Usage: 65.43GB\n",
            "Batch Size:32 , Memory Usage: 130.855GB\n"
          ]
        }
      ],
      "source": [
        "for batch_size in [1, 2, 4, 8, 16, 32]:\n",
        "  mem_size = get_model_memory_usage(batch_size, model)\n",
        "  print(\"Batch Size:{} , Memory Usage: {}GB\".format(batch_size, mem_size))"
      ]
    },
    {
      "cell_type": "markdown",
      "metadata": {
        "id": "J-c84IwRFwJJ"
      },
      "source": [
        "上記のように、Activationをレイヤとして定義すると、メモリ推定量が増加する。"
      ]
    },
    {
      "cell_type": "markdown",
      "metadata": {
        "id": "rjMmDGorFwJJ"
      },
      "source": [
        "#### (2)TensorFlowから見たメモリアロケーションとnvidia-smiでの数値の差"
      ]
    },
    {
      "cell_type": "markdown",
      "metadata": {
        "id": "4qop8RNuFwJK"
      },
      "source": [
        "TensorFlowから見たget_memory_infoで得られるメモリアロケーションのピーク値とnvidia-smiで確認したメモリ占有量が異なり、後者が大きくなっている理由として、リリース後のメモリが再利用されず新たにメモリが確保されるため、メモリフラグメンテーションが起きている可能性がある。"
      ]
    },
    {
      "cell_type": "markdown",
      "metadata": {
        "id": "qGozgjYaFwJK"
      },
      "source": [
        "#### (3)精度の高いメモリサイズ推定法について"
      ]
    },
    {
      "cell_type": "markdown",
      "metadata": {
        "id": "UPWUHh3WFwJK"
      },
      "source": [
        "単にバックプロパゲーション時の勾配計算用のメモリだけであれば、これまでの計算のメモリサイズを2倍にすれば大きな差はないはずであるが、実際に確保されたメモリーを見ると3倍から4倍のメモリーが必要と考えられる。\n",
        "\n",
        "深層学習モデルの学習に必要なメモリサイズに関する研究では、Microsoftが下記の論文を発表している。\n",
        "\n",
        "https://www.microsoft.com/en-us/research/uploads/prod/2020/09/dnnmem.pdf\n",
        "\n",
        "この論文では、TensorFlow、PyTorch、MXNetについて、その計算グラフやモデルのソースコード、訓練用パラメータから、メモリの解放と確保の順番を考慮して必要メモリを推定するアルゴリズムを紹介しているが、残念ながら計算プログラムDNNMemについては公開されていない。\n",
        "\n",
        "このため、tf.kerasを使用したモデルの使用メモリ量の試算に当たっては、Activationレイヤを別に定義するなどの方法をとるとともに、バックプロパゲーションに必要な勾配計算用として2倍のメモリサイズを想定することとし、さらに一時的なメモリやフラグメンテーションによって必要なメモリが増大することを考慮する必要がある。"
      ]
    },
    {
      "cell_type": "markdown",
      "source": [
        "## 2. 混合精度演算適用時のメモリ使用量試算について"
      ],
      "metadata": {
        "id": "RXGnY3kEXL7T"
      }
    },
    {
      "cell_type": "markdown",
      "source": [
        "深層学習モデルの通常の計算は4バイトの単精度浮動小数点数（Float32）が使われているが、データの標準化を前提にした畳み込みやDenseの積和演算では、半精度浮動小数点数（Float16）を使ってもモデルの性能はほとんど変わらないことが知られている。\n",
        "Voltaアーキテクチャ以降のNVIDIAのGPUには、混合精度計算機能が追加されており、Float16の計算を高速に行うTensorCoreが装備\n",
        "され、半分のメモリサイズで高速に計算を行うことが可能である。\n",
        "\n",
        "上記で紹介したメモリサイズ試算関数では、モデル全体のパラメータ数を元にした計算を行なっているため、混合精度での試算が不正確になる可能性がある。\n",
        "\n",
        "このため、レイヤごとにdtype_policyを元にした計算を行うように修正した関数を用いることとした。\n",
        "\n",
        "また、上記の1で論じた勾配計算用メモリを考慮して、パラメータ数を2倍として試算を行うように修正をしている。"
      ],
      "metadata": {
        "id": "wHtT_PVSXYvj"
      }
    },
    {
      "cell_type": "markdown",
      "metadata": {
        "id": "QIITasJ0ZHjq"
      },
      "source": [
        "### 修正版モデルサイズ計算関数"
      ]
    },
    {
      "cell_type": "code",
      "execution_count": 16,
      "metadata": {
        "id": "sRL2_r09ZHj5"
      },
      "outputs": [],
      "source": [
        "def get_model_memory_usage_mixed_mode(batch_size, model):\n",
        "    import numpy as np\n",
        "    try:\n",
        "        from keras import backend as K\n",
        "    except:\n",
        "        from tensorflow.keras import backend as K\n",
        "\n",
        "    def get_bytes(dtype_policy_name):\n",
        "        if dtype_policy_name == 'float16':\n",
        "            return 2\n",
        "        elif dtype_policy_name == 'float32':\n",
        "            return 4\n",
        "        elif dtype_policy_name == 'float64':\n",
        "            return 8\n",
        "        if dtype_policy_name == 'mixed_float16':\n",
        "            return 2\n",
        "        if dtype_policy_name == 'mixed_bfloat16':\n",
        "            return 2\n",
        "        else:\n",
        "            raise \"unknow dtype_plocy;{}\".format(dtype_policy_name)\n",
        "    \n",
        "    internal_model_mem_count = 0\n",
        "    trainable_count = 0\n",
        "    non_trainable_count = 0\n",
        "    total_memory = 0\n",
        "    for l in model.layers:\n",
        "        layer_type = l.__class__.__name__\n",
        "        if layer_type == 'Model':\n",
        "            internal_model_mem_count += get_model_memory_usage_mixed_mode(batch_size, l)\n",
        "        single_layer_mem = 1\n",
        "        out_shape = l.output_shape\n",
        "        if type(out_shape) is list:\n",
        "            out_shape = out_shape[0]\n",
        "        for s in out_shape:\n",
        "            if s is None:\n",
        "                continue\n",
        "            single_layer_mem *= s\n",
        " \n",
        "        trainable_count = np.sum([K.count_params(p) for p in l.trainable_weights])\n",
        "        non_trainable_count = np.sum([K.count_params(p) for p in l.non_trainable_weights])\n",
        "\n",
        "        total_memory += get_bytes(l.dtype_policy.name) * batch_size * single_layer_mem\n",
        "        total_memory += get_bytes(l.dtype_policy.name) * (trainable_count + non_trainable_count)\n",
        "    gbytes = np.round(total_memory / (1024.0 ** 3), 3) + internal_model_mem_count\n",
        "    return gbytes"
      ]
    },
    {
      "cell_type": "markdown",
      "metadata": {
        "id": "yGKeqs9sFwJA"
      },
      "source": [
        "### 混合精度演算設定"
      ]
    },
    {
      "cell_type": "markdown",
      "metadata": {
        "id": "xe11BsGcFwJA"
      },
      "source": [
        "https://www.tensorflow.org/guide/mixed_precision"
      ]
    },
    {
      "cell_type": "code",
      "execution_count": 17,
      "metadata": {
        "id": "xdd3XHVii9rr",
        "colab": {
          "base_uri": "https://localhost:8080/"
        },
        "outputId": "954e7f06-ab91-49ea-a184-bee8cc642fd4"
      },
      "outputs": [
        {
          "output_type": "stream",
          "name": "stdout",
          "text": [
            "INFO:tensorflow:Mixed precision compatibility check (mixed_float16): OK\n",
            "Your GPU will likely run quickly with dtype policy mixed_float16 as it has compute capability of at least 7.0. Your GPU: Tesla T4, compute capability 7.5\n"
          ]
        }
      ],
      "source": [
        "dtype = \"mixed_float16\"\n",
        "policy = tf.keras.mixed_precision.Policy(dtype)\n",
        "tf.keras.mixed_precision.set_global_policy(policy)"
      ]
    },
    {
      "cell_type": "markdown",
      "source": [
        "### PointNetモデルの場合\n",
        "\n",
        "下記のページより  \n",
        "https://keras.io/examples/vision/pointnet/"
      ],
      "metadata": {
        "id": "qBIxE_CQh5I3"
      }
    },
    {
      "cell_type": "code",
      "metadata": {
        "id": "a9DFrIgSZzS2"
      },
      "source": [
        "NUM_POINTS = 650000\n",
        "NUM_CLASSES = 10"
      ],
      "execution_count": 18,
      "outputs": []
    },
    {
      "cell_type": "code",
      "metadata": {
        "id": "D0cyCTUBN_D_"
      },
      "source": [
        "def conv_bn(x, filters):\n",
        "    x = layers.Conv1D(filters, kernel_size=1, padding=\"valid\")(x)\n",
        "    x = layers.BatchNormalization(momentum=0.0)(x)\n",
        "    return layers.Activation(\"relu\")(x)\n",
        "\n",
        "\n",
        "def dense_bn(x, filters):\n",
        "    x = layers.Dense(filters)(x)\n",
        "    x = layers.BatchNormalization(momentum=0.0)(x)\n",
        "    return layers.Activation(\"relu\")(x)\n"
      ],
      "execution_count": 19,
      "outputs": []
    },
    {
      "cell_type": "code",
      "metadata": {
        "id": "rhxrlJpfOAq8"
      },
      "source": [
        "class OrthogonalRegularizer(keras.regularizers.Regularizer):\n",
        "    def __init__(self, num_features, l2reg=0.001):\n",
        "        self.num_features = num_features\n",
        "        self.l2reg = l2reg\n",
        "        if keras.mixed_precision.global_policy().compute_dtype == 'float16':\n",
        "            self.eye = tf.eye(num_features, dtype=tf.float16)\n",
        "        else:\n",
        "            self.eye = tf.eye(num_features, dtype=tf.float32)\n",
        "\n",
        "    def __call__(self, x):\n",
        "        x = tf.reshape(x, (-1, self.num_features, self.num_features))\n",
        "        xxt = tf.tensordot(x, x, axes=(2, 2))\n",
        "        xxt = tf.reshape(xxt, (-1, self.num_features, self.num_features))\n",
        "        return tf.reduce_sum(self.l2reg * tf.square(xxt - self.eye))"
      ],
      "execution_count": 20,
      "outputs": []
    },
    {
      "cell_type": "code",
      "metadata": {
        "id": "PsGn7chbgXiA"
      },
      "source": [
        "def tnet(inputs, num_features):\n",
        "\n",
        "    # Initalise bias as the indentity matrix\n",
        "    bias = keras.initializers.Constant(np.eye(num_features).flatten())\n",
        "    reg = OrthogonalRegularizer(num_features)\n",
        "\n",
        "    x = conv_bn(inputs, 32)\n",
        "    x = conv_bn(x, 64)\n",
        "    x = conv_bn(x, 512)\n",
        "    x = layers.GlobalMaxPooling1D()(x)\n",
        "    x = dense_bn(x, 256)\n",
        "    x = dense_bn(x, 128)\n",
        "    x = layers.Dense(\n",
        "        num_features * num_features,\n",
        "        kernel_initializer=\"zeros\",\n",
        "        bias_initializer=bias,\n",
        "        activity_regularizer=reg,\n",
        "    )(x)\n",
        "    feat_T = layers.Reshape((num_features, num_features))(x)\n",
        "    # Apply affine transformation to input features\n",
        "    return layers.Dot(axes=(2, 1))([inputs, feat_T])"
      ],
      "execution_count": 21,
      "outputs": []
    },
    {
      "cell_type": "code",
      "metadata": {
        "colab": {
          "base_uri": "https://localhost:8080/"
        },
        "id": "qgNovk4wOJU2",
        "outputId": "b34057cf-10df-4ab6-861c-7d0e47b75140"
      },
      "source": [
        "inputs = keras.Input(shape=(NUM_POINTS, 6))\n",
        "\n",
        "x = tnet(inputs, 6)\n",
        "x = conv_bn(x, 32)\n",
        "x = conv_bn(x, 32)\n",
        "x = tnet(x, 32)\n",
        "x = conv_bn(x, 32)\n",
        "x = conv_bn(x, 64)\n",
        "x = conv_bn(x, 512)\n",
        "x = layers.GlobalMaxPooling1D()(x)\n",
        "x = dense_bn(x, 256)\n",
        "x = layers.Dropout(0.3)(x)\n",
        "x = dense_bn(x, 128)\n",
        "x = layers.Dropout(0.3)(x)\n",
        "\n",
        "x = layers.Dense(NUM_CLASSES, activation=\"softmax\")(x)\n",
        "outputs = layers.Activation(\"softmax\")(x)\n",
        "\n",
        "model = keras.Model(inputs=inputs, outputs=outputs, name=\"pointnet\")\n",
        "model.summary()\n"
      ],
      "execution_count": 22,
      "outputs": [
        {
          "output_type": "stream",
          "name": "stdout",
          "text": [
            "Model: \"pointnet\"\n",
            "__________________________________________________________________________________________________\n",
            " Layer (type)                   Output Shape         Param #     Connected to                     \n",
            "==================================================================================================\n",
            " input_3 (InputLayer)           [(None, 650000, 6)]  0           []                               \n",
            "                                                                                                  \n",
            " conv1d (Conv1D)                (None, 650000, 32)   224         ['input_3[0][0]']                \n",
            "                                                                                                  \n",
            " batch_normalization_8 (BatchNo  (None, 650000, 32)  128         ['conv1d[0][0]']                 \n",
            " rmalization)                                                                                     \n",
            "                                                                                                  \n",
            " activation_6 (Activation)      (None, 650000, 32)   0           ['batch_normalization_8[0][0]']  \n",
            "                                                                                                  \n",
            " conv1d_1 (Conv1D)              (None, 650000, 64)   2112        ['activation_6[0][0]']           \n",
            "                                                                                                  \n",
            " batch_normalization_9 (BatchNo  (None, 650000, 64)  256         ['conv1d_1[0][0]']               \n",
            " rmalization)                                                                                     \n",
            "                                                                                                  \n",
            " activation_7 (Activation)      (None, 650000, 64)   0           ['batch_normalization_9[0][0]']  \n",
            "                                                                                                  \n",
            " conv1d_2 (Conv1D)              (None, 650000, 512)  33280       ['activation_7[0][0]']           \n",
            "                                                                                                  \n",
            " batch_normalization_10 (BatchN  (None, 650000, 512)  2048       ['conv1d_2[0][0]']               \n",
            " ormalization)                                                                                    \n",
            "                                                                                                  \n",
            " activation_8 (Activation)      (None, 650000, 512)  0           ['batch_normalization_10[0][0]'] \n",
            "                                                                                                  \n",
            " global_max_pooling1d (GlobalMa  (None, 512)         0           ['activation_8[0][0]']           \n",
            " xPooling1D)                                                                                      \n",
            "                                                                                                  \n",
            " dense_4 (Dense)                (None, 256)          131328      ['global_max_pooling1d[0][0]']   \n",
            "                                                                                                  \n",
            " batch_normalization_11 (BatchN  (None, 256)         1024        ['dense_4[0][0]']                \n",
            " ormalization)                                                                                    \n",
            "                                                                                                  \n",
            " activation_9 (Activation)      (None, 256)          0           ['batch_normalization_11[0][0]'] \n",
            "                                                                                                  \n",
            " dense_5 (Dense)                (None, 128)          32896       ['activation_9[0][0]']           \n",
            "                                                                                                  \n",
            " batch_normalization_12 (BatchN  (None, 128)         512         ['dense_5[0][0]']                \n",
            " ormalization)                                                                                    \n",
            "                                                                                                  \n",
            " activation_10 (Activation)     (None, 128)          0           ['batch_normalization_12[0][0]'] \n",
            "                                                                                                  \n",
            " dense_6 (Dense)                (None, 36)           4644        ['activation_10[0][0]']          \n",
            "                                                                                                  \n",
            " reshape (Reshape)              (None, 6, 6)         0           ['dense_6[0][0]']                \n",
            "                                                                                                  \n",
            " dot (Dot)                      (None, 650000, 6)    0           ['input_3[0][0]',                \n",
            "                                                                  'reshape[0][0]']                \n",
            "                                                                                                  \n",
            " conv1d_3 (Conv1D)              (None, 650000, 32)   224         ['dot[0][0]']                    \n",
            "                                                                                                  \n",
            " batch_normalization_13 (BatchN  (None, 650000, 32)  128         ['conv1d_3[0][0]']               \n",
            " ormalization)                                                                                    \n",
            "                                                                                                  \n",
            " activation_11 (Activation)     (None, 650000, 32)   0           ['batch_normalization_13[0][0]'] \n",
            "                                                                                                  \n",
            " conv1d_4 (Conv1D)              (None, 650000, 32)   1056        ['activation_11[0][0]']          \n",
            "                                                                                                  \n",
            " batch_normalization_14 (BatchN  (None, 650000, 32)  128         ['conv1d_4[0][0]']               \n",
            " ormalization)                                                                                    \n",
            "                                                                                                  \n",
            " activation_12 (Activation)     (None, 650000, 32)   0           ['batch_normalization_14[0][0]'] \n",
            "                                                                                                  \n",
            " conv1d_5 (Conv1D)              (None, 650000, 32)   1056        ['activation_12[0][0]']          \n",
            "                                                                                                  \n",
            " batch_normalization_15 (BatchN  (None, 650000, 32)  128         ['conv1d_5[0][0]']               \n",
            " ormalization)                                                                                    \n",
            "                                                                                                  \n",
            " activation_13 (Activation)     (None, 650000, 32)   0           ['batch_normalization_15[0][0]'] \n",
            "                                                                                                  \n",
            " conv1d_6 (Conv1D)              (None, 650000, 64)   2112        ['activation_13[0][0]']          \n",
            "                                                                                                  \n",
            " batch_normalization_16 (BatchN  (None, 650000, 64)  256         ['conv1d_6[0][0]']               \n",
            " ormalization)                                                                                    \n",
            "                                                                                                  \n",
            " activation_14 (Activation)     (None, 650000, 64)   0           ['batch_normalization_16[0][0]'] \n",
            "                                                                                                  \n",
            " conv1d_7 (Conv1D)              (None, 650000, 512)  33280       ['activation_14[0][0]']          \n",
            "                                                                                                  \n",
            " batch_normalization_17 (BatchN  (None, 650000, 512)  2048       ['conv1d_7[0][0]']               \n",
            " ormalization)                                                                                    \n",
            "                                                                                                  \n",
            " activation_15 (Activation)     (None, 650000, 512)  0           ['batch_normalization_17[0][0]'] \n",
            "                                                                                                  \n",
            " global_max_pooling1d_1 (Global  (None, 512)         0           ['activation_15[0][0]']          \n",
            " MaxPooling1D)                                                                                    \n",
            "                                                                                                  \n",
            " dense_7 (Dense)                (None, 256)          131328      ['global_max_pooling1d_1[0][0]'] \n",
            "                                                                                                  \n",
            " batch_normalization_18 (BatchN  (None, 256)         1024        ['dense_7[0][0]']                \n",
            " ormalization)                                                                                    \n",
            "                                                                                                  \n",
            " activation_16 (Activation)     (None, 256)          0           ['batch_normalization_18[0][0]'] \n",
            "                                                                                                  \n",
            " dense_8 (Dense)                (None, 128)          32896       ['activation_16[0][0]']          \n",
            "                                                                                                  \n",
            " batch_normalization_19 (BatchN  (None, 128)         512         ['dense_8[0][0]']                \n",
            " ormalization)                                                                                    \n",
            "                                                                                                  \n",
            " activation_17 (Activation)     (None, 128)          0           ['batch_normalization_19[0][0]'] \n",
            "                                                                                                  \n",
            " dense_9 (Dense)                (None, 1024)         132096      ['activation_17[0][0]']          \n",
            "                                                                                                  \n",
            " reshape_1 (Reshape)            (None, 32, 32)       0           ['dense_9[0][0]']                \n",
            "                                                                                                  \n",
            " dot_1 (Dot)                    (None, 650000, 32)   0           ['activation_12[0][0]',          \n",
            "                                                                  'reshape_1[0][0]']              \n",
            "                                                                                                  \n",
            " conv1d_8 (Conv1D)              (None, 650000, 32)   1056        ['dot_1[0][0]']                  \n",
            "                                                                                                  \n",
            " batch_normalization_20 (BatchN  (None, 650000, 32)  128         ['conv1d_8[0][0]']               \n",
            " ormalization)                                                                                    \n",
            "                                                                                                  \n",
            " activation_18 (Activation)     (None, 650000, 32)   0           ['batch_normalization_20[0][0]'] \n",
            "                                                                                                  \n",
            " conv1d_9 (Conv1D)              (None, 650000, 64)   2112        ['activation_18[0][0]']          \n",
            "                                                                                                  \n",
            " batch_normalization_21 (BatchN  (None, 650000, 64)  256         ['conv1d_9[0][0]']               \n",
            " ormalization)                                                                                    \n",
            "                                                                                                  \n",
            " activation_19 (Activation)     (None, 650000, 64)   0           ['batch_normalization_21[0][0]'] \n",
            "                                                                                                  \n",
            " conv1d_10 (Conv1D)             (None, 650000, 512)  33280       ['activation_19[0][0]']          \n",
            "                                                                                                  \n",
            " batch_normalization_22 (BatchN  (None, 650000, 512)  2048       ['conv1d_10[0][0]']              \n",
            " ormalization)                                                                                    \n",
            "                                                                                                  \n",
            " activation_20 (Activation)     (None, 650000, 512)  0           ['batch_normalization_22[0][0]'] \n",
            "                                                                                                  \n",
            " global_max_pooling1d_2 (Global  (None, 512)         0           ['activation_20[0][0]']          \n",
            " MaxPooling1D)                                                                                    \n",
            "                                                                                                  \n",
            " dense_10 (Dense)               (None, 256)          131328      ['global_max_pooling1d_2[0][0]'] \n",
            "                                                                                                  \n",
            " batch_normalization_23 (BatchN  (None, 256)         1024        ['dense_10[0][0]']               \n",
            " ormalization)                                                                                    \n",
            "                                                                                                  \n",
            " activation_21 (Activation)     (None, 256)          0           ['batch_normalization_23[0][0]'] \n",
            "                                                                                                  \n",
            " dropout_2 (Dropout)            (None, 256)          0           ['activation_21[0][0]']          \n",
            "                                                                                                  \n",
            " dense_11 (Dense)               (None, 128)          32896       ['dropout_2[0][0]']              \n",
            "                                                                                                  \n",
            " batch_normalization_24 (BatchN  (None, 128)         512         ['dense_11[0][0]']               \n",
            " ormalization)                                                                                    \n",
            "                                                                                                  \n",
            " activation_22 (Activation)     (None, 128)          0           ['batch_normalization_24[0][0]'] \n",
            "                                                                                                  \n",
            " dropout_3 (Dropout)            (None, 128)          0           ['activation_22[0][0]']          \n",
            "                                                                                                  \n",
            " dense_12 (Dense)               (None, 10)           1290        ['dropout_3[0][0]']              \n",
            "                                                                                                  \n",
            " activation_23 (Activation)     (None, 10)           0           ['dense_12[0][0]']               \n",
            "                                                                                                  \n",
            "==================================================================================================\n",
            "Total params: 752,654\n",
            "Trainable params: 746,574\n",
            "Non-trainable params: 6,080\n",
            "__________________________________________________________________________________________________\n"
          ]
        }
      ]
    },
    {
      "cell_type": "code",
      "metadata": {
        "colab": {
          "base_uri": "https://localhost:8080/"
        },
        "id": "OIJiROHpvVya",
        "outputId": "6e767493-0c9a-4698-8f4d-cb96a4024f83"
      },
      "source": [
        "for batch_size in [1, 2, 4, 8, 16, 32]:\n",
        "  mem_size = get_model_memory_usage_mixed_mode(batch_size, model)\n",
        "  print(\"Batch Size:{} , Memory Usage: {} GB\".format(batch_size, mem_size))"
      ],
      "execution_count": 23,
      "outputs": [
        {
          "output_type": "stream",
          "name": "stdout",
          "text": [
            "Batch Size:1 , Memory Usage: 6.919 GB\n",
            "Batch Size:2 , Memory Usage: 13.838 GB\n",
            "Batch Size:4 , Memory Usage: 27.674 GB\n",
            "Batch Size:8 , Memory Usage: 55.346 GB\n",
            "Batch Size:16 , Memory Usage: 110.69 GB\n",
            "Batch Size:32 , Memory Usage: 221.379 GB\n"
          ]
        }
      ]
    },
    {
      "cell_type": "markdown",
      "source": [
        "### 3D CNNの場合\n",
        "下記のページより  \n",
        "https://keras.io/examples/vision/3D_image_classification/"
      ],
      "metadata": {
        "id": "6GOc12PRZzS5"
      }
    },
    {
      "cell_type": "code",
      "execution_count": 24,
      "metadata": {
        "colab": {
          "base_uri": "https://localhost:8080/"
        },
        "outputId": "c753e4b6-431a-4512-8a92-7a20671ce4af",
        "id": "CjCHuxZKZzS5"
      },
      "outputs": [
        {
          "output_type": "stream",
          "name": "stdout",
          "text": [
            "Model: \"3dcnn\"\n",
            "_________________________________________________________________\n",
            " Layer (type)                Output Shape              Param #   \n",
            "=================================================================\n",
            " input_4 (InputLayer)        [(None, 150, 300, 150, 3  0         \n",
            "                             )]                                  \n",
            "                                                                 \n",
            " conv3d_8 (Conv3D)           (None, 148, 298, 148, 64  5248      \n",
            "                             )                                   \n",
            "                                                                 \n",
            " activation_24 (Activation)  (None, 148, 298, 148, 64  0         \n",
            "                             )                                   \n",
            "                                                                 \n",
            " max_pooling3d_8 (MaxPooling  (None, 74, 149, 74, 64)  0         \n",
            " 3D)                                                             \n",
            "                                                                 \n",
            " batch_normalization_25 (Bat  (None, 74, 149, 74, 64)  256       \n",
            " chNormalization)                                                \n",
            "                                                                 \n",
            " conv3d_9 (Conv3D)           (None, 72, 147, 72, 64)   110656    \n",
            "                                                                 \n",
            " activation_25 (Activation)  (None, 72, 147, 72, 64)   0         \n",
            "                                                                 \n",
            " max_pooling3d_9 (MaxPooling  (None, 36, 73, 36, 64)   0         \n",
            " 3D)                                                             \n",
            "                                                                 \n",
            " batch_normalization_26 (Bat  (None, 36, 73, 36, 64)   256       \n",
            " chNormalization)                                                \n",
            "                                                                 \n",
            " conv3d_10 (Conv3D)          (None, 34, 71, 34, 128)   221312    \n",
            "                                                                 \n",
            " activation_26 (Activation)  (None, 34, 71, 34, 128)   0         \n",
            "                                                                 \n",
            " max_pooling3d_10 (MaxPoolin  (None, 17, 35, 17, 128)  0         \n",
            " g3D)                                                            \n",
            "                                                                 \n",
            " batch_normalization_27 (Bat  (None, 17, 35, 17, 128)  512       \n",
            " chNormalization)                                                \n",
            "                                                                 \n",
            " conv3d_11 (Conv3D)          (None, 15, 33, 15, 256)   884992    \n",
            "                                                                 \n",
            " activation_27 (Activation)  (None, 15, 33, 15, 256)   0         \n",
            "                                                                 \n",
            " max_pooling3d_11 (MaxPoolin  (None, 7, 16, 7, 256)    0         \n",
            " g3D)                                                            \n",
            "                                                                 \n",
            " batch_normalization_28 (Bat  (None, 7, 16, 7, 256)    1024      \n",
            " chNormalization)                                                \n",
            "                                                                 \n",
            " global_average_pooling3d_2   (None, 256)              0         \n",
            " (GlobalAveragePooling3D)                                        \n",
            "                                                                 \n",
            " dense_13 (Dense)            (None, 512)               131584    \n",
            "                                                                 \n",
            " dropout_4 (Dropout)         (None, 512)               0         \n",
            "                                                                 \n",
            " dense_14 (Dense)            (None, 10)                5130      \n",
            "                                                                 \n",
            " activation_28 (Activation)  (None, 10)                0         \n",
            "                                                                 \n",
            "=================================================================\n",
            "Total params: 1,360,970\n",
            "Trainable params: 1,359,946\n",
            "Non-trainable params: 1,024\n",
            "_________________________________________________________________\n"
          ]
        }
      ],
      "source": [
        "def get_model(width=128, height=128, depth=64, channel=1):\n",
        "    \"\"\"Build a 3D convolutional neural network model.\"\"\"\n",
        "\n",
        "    inputs = keras.Input((width, height, depth, channel))\n",
        "\n",
        "    x = layers.Conv3D(filters=64, kernel_size=3)(inputs)\n",
        "    x = layers.Activation(tf.keras.activations.relu)(x)\n",
        "    x = layers.MaxPool3D(pool_size=2)(x)\n",
        "    x = layers.BatchNormalization()(x)\n",
        "\n",
        "    x = layers.Conv3D(filters=64, kernel_size=3)(x)\n",
        "    x = layers.Activation(tf.keras.activations.relu)(x)\n",
        "    x = layers.MaxPool3D(pool_size=2)(x)\n",
        "    x = layers.BatchNormalization()(x)\n",
        "\n",
        "    x = layers.Conv3D(filters=128, kernel_size=3)(x)\n",
        "    x = layers.Activation(tf.keras.activations.relu)(x)\n",
        "    x = layers.MaxPool3D(pool_size=2)(x)\n",
        "    x = layers.BatchNormalization()(x)\n",
        "\n",
        "    x = layers.Conv3D(filters=256, kernel_size=3)(x)\n",
        "    x = layers.Activation(tf.keras.activations.relu)(x)\n",
        "    x = layers.MaxPool3D(pool_size=2)(x)\n",
        "    x = layers.BatchNormalization()(x)\n",
        "\n",
        "    x = layers.GlobalAveragePooling3D()(x)\n",
        "    x = layers.Dense(units=512)(x)\n",
        "    x = layers.Dropout(0.3)(x)\n",
        "\n",
        "    x = layers.Dense(units=10)(x)\n",
        "    outputs = layers.Activation(tf.keras.activations.softmax)(x)\n",
        "\n",
        "    # Define the model.\n",
        "    model = keras.Model(inputs, outputs, name=\"3dcnn\")\n",
        "    return model\n",
        "\n",
        "\n",
        "# Build model.\n",
        "model = get_model(width=150, height=300, depth=150, channel=3)\n",
        "model.summary()"
      ]
    },
    {
      "cell_type": "code",
      "execution_count": 25,
      "metadata": {
        "colab": {
          "base_uri": "https://localhost:8080/"
        },
        "id": "NHu4KnIluG1i",
        "outputId": "0ec7fa54-2d79-4592-8207-bbad76272165"
      },
      "outputs": [
        {
          "output_type": "stream",
          "name": "stdout",
          "text": [
            "Batch Size:4 , Memory Usage: 8.332GB\n",
            "Batch Size:8 , Memory Usage: 16.661GB\n",
            "Batch Size:16 , Memory Usage: 33.319GB\n",
            "Batch Size:32 , Memory Usage: 66.635GB\n"
          ]
        }
      ],
      "source": [
        "for batch_size in [4, 8, 16, 32]:\n",
        "  mem_size = get_model_memory_usage_mixed_mode(batch_size, model)\n",
        "  print(\"Batch Size:{} , Memory Usage: {}GB\".format(batch_size, mem_size))"
      ]
    },
    {
      "cell_type": "markdown",
      "source": [
        "### 3D-CNN 512x512x512 の場合"
      ],
      "metadata": {
        "id": "V5Wul2T8cMyg"
      }
    },
    {
      "cell_type": "code",
      "source": [
        "# Build model.\n",
        "model = get_model(width=512, height=512, depth=512, channel=3)\n",
        "model.summary()"
      ],
      "metadata": {
        "colab": {
          "base_uri": "https://localhost:8080/"
        },
        "id": "5QiZ7yzOcTdg",
        "outputId": "348b5f9b-fcbb-4385-de73-4a928deaee1d"
      },
      "execution_count": 26,
      "outputs": [
        {
          "output_type": "stream",
          "name": "stdout",
          "text": [
            "Model: \"3dcnn\"\n",
            "_________________________________________________________________\n",
            " Layer (type)                Output Shape              Param #   \n",
            "=================================================================\n",
            " input_5 (InputLayer)        [(None, 512, 512, 512, 3  0         \n",
            "                             )]                                  \n",
            "                                                                 \n",
            " conv3d_12 (Conv3D)          (None, 510, 510, 510, 64  5248      \n",
            "                             )                                   \n",
            "                                                                 \n",
            " activation_29 (Activation)  (None, 510, 510, 510, 64  0         \n",
            "                             )                                   \n",
            "                                                                 \n",
            " max_pooling3d_12 (MaxPoolin  (None, 255, 255, 255, 64  0        \n",
            " g3D)                        )                                   \n",
            "                                                                 \n",
            " batch_normalization_29 (Bat  (None, 255, 255, 255, 64  256      \n",
            " chNormalization)            )                                   \n",
            "                                                                 \n",
            " conv3d_13 (Conv3D)          (None, 253, 253, 253, 64  110656    \n",
            "                             )                                   \n",
            "                                                                 \n",
            " activation_30 (Activation)  (None, 253, 253, 253, 64  0         \n",
            "                             )                                   \n",
            "                                                                 \n",
            " max_pooling3d_13 (MaxPoolin  (None, 126, 126, 126, 64  0        \n",
            " g3D)                        )                                   \n",
            "                                                                 \n",
            " batch_normalization_30 (Bat  (None, 126, 126, 126, 64  256      \n",
            " chNormalization)            )                                   \n",
            "                                                                 \n",
            " conv3d_14 (Conv3D)          (None, 124, 124, 124, 12  221312    \n",
            "                             8)                                  \n",
            "                                                                 \n",
            " activation_31 (Activation)  (None, 124, 124, 124, 12  0         \n",
            "                             8)                                  \n",
            "                                                                 \n",
            " max_pooling3d_14 (MaxPoolin  (None, 62, 62, 62, 128)  0         \n",
            " g3D)                                                            \n",
            "                                                                 \n",
            " batch_normalization_31 (Bat  (None, 62, 62, 62, 128)  512       \n",
            " chNormalization)                                                \n",
            "                                                                 \n",
            " conv3d_15 (Conv3D)          (None, 60, 60, 60, 256)   884992    \n",
            "                                                                 \n",
            " activation_32 (Activation)  (None, 60, 60, 60, 256)   0         \n",
            "                                                                 \n",
            " max_pooling3d_15 (MaxPoolin  (None, 30, 30, 30, 256)  0         \n",
            " g3D)                                                            \n",
            "                                                                 \n",
            " batch_normalization_32 (Bat  (None, 30, 30, 30, 256)  1024      \n",
            " chNormalization)                                                \n",
            "                                                                 \n",
            " global_average_pooling3d_3   (None, 256)              0         \n",
            " (GlobalAveragePooling3D)                                        \n",
            "                                                                 \n",
            " dense_15 (Dense)            (None, 512)               131584    \n",
            "                                                                 \n",
            " dropout_5 (Dropout)         (None, 512)               0         \n",
            "                                                                 \n",
            " dense_16 (Dense)            (None, 10)                5130      \n",
            "                                                                 \n",
            " activation_33 (Activation)  (None, 10)                0         \n",
            "                                                                 \n",
            "=================================================================\n",
            "Total params: 1,360,970\n",
            "Trainable params: 1,359,946\n",
            "Non-trainable params: 1,024\n",
            "_________________________________________________________________\n"
          ]
        }
      ]
    },
    {
      "cell_type": "code",
      "execution_count": 27,
      "metadata": {
        "colab": {
          "base_uri": "https://localhost:8080/"
        },
        "outputId": "a92ea36d-5e5d-4dcd-e435-bb2e81e6e99a",
        "id": "_dWtkkJ7cac3"
      },
      "outputs": [
        {
          "output_type": "stream",
          "name": "stdout",
          "text": [
            "Batch Size:1 , Memory Usage: 42.675GB\n",
            "Batch Size:2 , Memory Usage: 85.347GB\n",
            "Batch Size:4 , Memory Usage: 170.692GB\n",
            "Batch Size:8 , Memory Usage: 341.381GB\n",
            "Batch Size:16 , Memory Usage: 682.759GB\n",
            "Batch Size:32 , Memory Usage: 1365.515GB\n"
          ]
        }
      ],
      "source": [
        "for batch_size in [1, 2, 4, 8, 16, 32]:\n",
        "  mem_size = get_model_memory_usage_mixed_mode(batch_size, model)\n",
        "  print(\"Batch Size:{} , Memory Usage: {}GB\".format(batch_size, mem_size))"
      ]
    },
    {
      "cell_type": "markdown",
      "source": [
        "## 3. 混合精度演算不適用時のメモリ使用量試算 "
      ],
      "metadata": {
        "id": "xD08ZoFddDEB"
      }
    },
    {
      "cell_type": "markdown",
      "source": [
        "通常精度（float32）を設定。"
      ],
      "metadata": {
        "id": "4b2BEAdedNSK"
      }
    },
    {
      "cell_type": "code",
      "source": [
        "dtype = \"float32\"\n",
        "policy = tf.keras.mixed_precision.Policy(dtype)\n",
        "tf.keras.mixed_precision.set_global_policy(policy)"
      ],
      "metadata": {
        "id": "nq9837CrdLIC"
      },
      "execution_count": 28,
      "outputs": []
    },
    {
      "cell_type": "markdown",
      "source": [
        "### PointNetモデルの場合\n",
        "\n",
        "下記のページより  \n",
        "https://keras.io/examples/vision/pointnet/"
      ],
      "metadata": {
        "id": "BYVYEboQdnFd"
      }
    },
    {
      "cell_type": "code",
      "metadata": {
        "id": "l66y6vwydnFd"
      },
      "source": [
        "NUM_POINTS = 650000\n",
        "NUM_CLASSES = 10"
      ],
      "execution_count": 29,
      "outputs": []
    },
    {
      "cell_type": "code",
      "metadata": {
        "id": "mXvv51eQdnFe"
      },
      "source": [
        "def conv_bn(x, filters):\n",
        "    x = layers.Conv1D(filters, kernel_size=1, padding=\"valid\")(x)\n",
        "    x = layers.BatchNormalization(momentum=0.0)(x)\n",
        "    return layers.Activation(\"relu\")(x)\n",
        "\n",
        "\n",
        "def dense_bn(x, filters):\n",
        "    x = layers.Dense(filters)(x)\n",
        "    x = layers.BatchNormalization(momentum=0.0)(x)\n",
        "    return layers.Activation(\"relu\")(x)\n"
      ],
      "execution_count": 30,
      "outputs": []
    },
    {
      "cell_type": "code",
      "metadata": {
        "id": "W7_DXfm6dnFf"
      },
      "source": [
        "class OrthogonalRegularizer(keras.regularizers.Regularizer):\n",
        "    def __init__(self, num_features, l2reg=0.001):\n",
        "        self.num_features = num_features\n",
        "        self.l2reg = l2reg\n",
        "        if keras.mixed_precision.global_policy().compute_dtype == 'float16':\n",
        "            self.eye = tf.eye(num_features, dtype=tf.float16)\n",
        "        else:\n",
        "            self.eye = tf.eye(num_features, dtype=tf.float32)\n",
        "\n",
        "    def __call__(self, x):\n",
        "        x = tf.reshape(x, (-1, self.num_features, self.num_features))\n",
        "        xxt = tf.tensordot(x, x, axes=(2, 2))\n",
        "        xxt = tf.reshape(xxt, (-1, self.num_features, self.num_features))\n",
        "        return tf.reduce_sum(self.l2reg * tf.square(xxt - self.eye))"
      ],
      "execution_count": 31,
      "outputs": []
    },
    {
      "cell_type": "code",
      "metadata": {
        "id": "jw6rTdg1dnFf"
      },
      "source": [
        "def tnet(inputs, num_features):\n",
        "\n",
        "    # Initalise bias as the indentity matrix\n",
        "    bias = keras.initializers.Constant(np.eye(num_features).flatten())\n",
        "    reg = OrthogonalRegularizer(num_features)\n",
        "\n",
        "    x = conv_bn(inputs, 32)\n",
        "    x = conv_bn(x, 64)\n",
        "    x = conv_bn(x, 512)\n",
        "    x = layers.GlobalMaxPooling1D()(x)\n",
        "    x = dense_bn(x, 256)\n",
        "    x = dense_bn(x, 128)\n",
        "    x = layers.Dense(\n",
        "        num_features * num_features,\n",
        "        kernel_initializer=\"zeros\",\n",
        "        bias_initializer=bias,\n",
        "        activity_regularizer=reg,\n",
        "    )(x)\n",
        "    feat_T = layers.Reshape((num_features, num_features))(x)\n",
        "    # Apply affine transformation to input features\n",
        "    return layers.Dot(axes=(2, 1))([inputs, feat_T])"
      ],
      "execution_count": 32,
      "outputs": []
    },
    {
      "cell_type": "code",
      "metadata": {
        "colab": {
          "base_uri": "https://localhost:8080/"
        },
        "outputId": "ef8774da-7c1c-4c8b-804f-f65bac8de214",
        "id": "nFfqLnIZdnFf"
      },
      "source": [
        "inputs = keras.Input(shape=(NUM_POINTS, 6))\n",
        "\n",
        "x = tnet(inputs, 6)\n",
        "x = conv_bn(x, 32)\n",
        "x = conv_bn(x, 32)\n",
        "x = tnet(x, 32)\n",
        "x = conv_bn(x, 32)\n",
        "x = conv_bn(x, 64)\n",
        "x = conv_bn(x, 512)\n",
        "x = layers.GlobalMaxPooling1D()(x)\n",
        "x = dense_bn(x, 256)\n",
        "x = layers.Dropout(0.3)(x)\n",
        "x = dense_bn(x, 128)\n",
        "x = layers.Dropout(0.3)(x)\n",
        "\n",
        "x = layers.Dense(NUM_CLASSES, activation=\"softmax\")(x)\n",
        "outputs = layers.Activation(\"softmax\")(x)\n",
        "\n",
        "model = keras.Model(inputs=inputs, outputs=outputs, name=\"pointnet\")\n",
        "model.summary()\n"
      ],
      "execution_count": 33,
      "outputs": [
        {
          "output_type": "stream",
          "name": "stdout",
          "text": [
            "Model: \"pointnet\"\n",
            "__________________________________________________________________________________________________\n",
            " Layer (type)                   Output Shape         Param #     Connected to                     \n",
            "==================================================================================================\n",
            " input_6 (InputLayer)           [(None, 650000, 6)]  0           []                               \n",
            "                                                                                                  \n",
            " conv1d_11 (Conv1D)             (None, 650000, 32)   224         ['input_6[0][0]']                \n",
            "                                                                                                  \n",
            " batch_normalization_33 (BatchN  (None, 650000, 32)  128         ['conv1d_11[0][0]']              \n",
            " ormalization)                                                                                    \n",
            "                                                                                                  \n",
            " activation_34 (Activation)     (None, 650000, 32)   0           ['batch_normalization_33[0][0]'] \n",
            "                                                                                                  \n",
            " conv1d_12 (Conv1D)             (None, 650000, 64)   2112        ['activation_34[0][0]']          \n",
            "                                                                                                  \n",
            " batch_normalization_34 (BatchN  (None, 650000, 64)  256         ['conv1d_12[0][0]']              \n",
            " ormalization)                                                                                    \n",
            "                                                                                                  \n",
            " activation_35 (Activation)     (None, 650000, 64)   0           ['batch_normalization_34[0][0]'] \n",
            "                                                                                                  \n",
            " conv1d_13 (Conv1D)             (None, 650000, 512)  33280       ['activation_35[0][0]']          \n",
            "                                                                                                  \n",
            " batch_normalization_35 (BatchN  (None, 650000, 512)  2048       ['conv1d_13[0][0]']              \n",
            " ormalization)                                                                                    \n",
            "                                                                                                  \n",
            " activation_36 (Activation)     (None, 650000, 512)  0           ['batch_normalization_35[0][0]'] \n",
            "                                                                                                  \n",
            " global_max_pooling1d_3 (Global  (None, 512)         0           ['activation_36[0][0]']          \n",
            " MaxPooling1D)                                                                                    \n",
            "                                                                                                  \n",
            " dense_17 (Dense)               (None, 256)          131328      ['global_max_pooling1d_3[0][0]'] \n",
            "                                                                                                  \n",
            " batch_normalization_36 (BatchN  (None, 256)         1024        ['dense_17[0][0]']               \n",
            " ormalization)                                                                                    \n",
            "                                                                                                  \n",
            " activation_37 (Activation)     (None, 256)          0           ['batch_normalization_36[0][0]'] \n",
            "                                                                                                  \n",
            " dense_18 (Dense)               (None, 128)          32896       ['activation_37[0][0]']          \n",
            "                                                                                                  \n",
            " batch_normalization_37 (BatchN  (None, 128)         512         ['dense_18[0][0]']               \n",
            " ormalization)                                                                                    \n",
            "                                                                                                  \n",
            " activation_38 (Activation)     (None, 128)          0           ['batch_normalization_37[0][0]'] \n",
            "                                                                                                  \n",
            " dense_19 (Dense)               (None, 36)           4644        ['activation_38[0][0]']          \n",
            "                                                                                                  \n",
            " reshape_2 (Reshape)            (None, 6, 6)         0           ['dense_19[0][0]']               \n",
            "                                                                                                  \n",
            " dot_2 (Dot)                    (None, 650000, 6)    0           ['input_6[0][0]',                \n",
            "                                                                  'reshape_2[0][0]']              \n",
            "                                                                                                  \n",
            " conv1d_14 (Conv1D)             (None, 650000, 32)   224         ['dot_2[0][0]']                  \n",
            "                                                                                                  \n",
            " batch_normalization_38 (BatchN  (None, 650000, 32)  128         ['conv1d_14[0][0]']              \n",
            " ormalization)                                                                                    \n",
            "                                                                                                  \n",
            " activation_39 (Activation)     (None, 650000, 32)   0           ['batch_normalization_38[0][0]'] \n",
            "                                                                                                  \n",
            " conv1d_15 (Conv1D)             (None, 650000, 32)   1056        ['activation_39[0][0]']          \n",
            "                                                                                                  \n",
            " batch_normalization_39 (BatchN  (None, 650000, 32)  128         ['conv1d_15[0][0]']              \n",
            " ormalization)                                                                                    \n",
            "                                                                                                  \n",
            " activation_40 (Activation)     (None, 650000, 32)   0           ['batch_normalization_39[0][0]'] \n",
            "                                                                                                  \n",
            " conv1d_16 (Conv1D)             (None, 650000, 32)   1056        ['activation_40[0][0]']          \n",
            "                                                                                                  \n",
            " batch_normalization_40 (BatchN  (None, 650000, 32)  128         ['conv1d_16[0][0]']              \n",
            " ormalization)                                                                                    \n",
            "                                                                                                  \n",
            " activation_41 (Activation)     (None, 650000, 32)   0           ['batch_normalization_40[0][0]'] \n",
            "                                                                                                  \n",
            " conv1d_17 (Conv1D)             (None, 650000, 64)   2112        ['activation_41[0][0]']          \n",
            "                                                                                                  \n",
            " batch_normalization_41 (BatchN  (None, 650000, 64)  256         ['conv1d_17[0][0]']              \n",
            " ormalization)                                                                                    \n",
            "                                                                                                  \n",
            " activation_42 (Activation)     (None, 650000, 64)   0           ['batch_normalization_41[0][0]'] \n",
            "                                                                                                  \n",
            " conv1d_18 (Conv1D)             (None, 650000, 512)  33280       ['activation_42[0][0]']          \n",
            "                                                                                                  \n",
            " batch_normalization_42 (BatchN  (None, 650000, 512)  2048       ['conv1d_18[0][0]']              \n",
            " ormalization)                                                                                    \n",
            "                                                                                                  \n",
            " activation_43 (Activation)     (None, 650000, 512)  0           ['batch_normalization_42[0][0]'] \n",
            "                                                                                                  \n",
            " global_max_pooling1d_4 (Global  (None, 512)         0           ['activation_43[0][0]']          \n",
            " MaxPooling1D)                                                                                    \n",
            "                                                                                                  \n",
            " dense_20 (Dense)               (None, 256)          131328      ['global_max_pooling1d_4[0][0]'] \n",
            "                                                                                                  \n",
            " batch_normalization_43 (BatchN  (None, 256)         1024        ['dense_20[0][0]']               \n",
            " ormalization)                                                                                    \n",
            "                                                                                                  \n",
            " activation_44 (Activation)     (None, 256)          0           ['batch_normalization_43[0][0]'] \n",
            "                                                                                                  \n",
            " dense_21 (Dense)               (None, 128)          32896       ['activation_44[0][0]']          \n",
            "                                                                                                  \n",
            " batch_normalization_44 (BatchN  (None, 128)         512         ['dense_21[0][0]']               \n",
            " ormalization)                                                                                    \n",
            "                                                                                                  \n",
            " activation_45 (Activation)     (None, 128)          0           ['batch_normalization_44[0][0]'] \n",
            "                                                                                                  \n",
            " dense_22 (Dense)               (None, 1024)         132096      ['activation_45[0][0]']          \n",
            "                                                                                                  \n",
            " reshape_3 (Reshape)            (None, 32, 32)       0           ['dense_22[0][0]']               \n",
            "                                                                                                  \n",
            " dot_3 (Dot)                    (None, 650000, 32)   0           ['activation_40[0][0]',          \n",
            "                                                                  'reshape_3[0][0]']              \n",
            "                                                                                                  \n",
            " conv1d_19 (Conv1D)             (None, 650000, 32)   1056        ['dot_3[0][0]']                  \n",
            "                                                                                                  \n",
            " batch_normalization_45 (BatchN  (None, 650000, 32)  128         ['conv1d_19[0][0]']              \n",
            " ormalization)                                                                                    \n",
            "                                                                                                  \n",
            " activation_46 (Activation)     (None, 650000, 32)   0           ['batch_normalization_45[0][0]'] \n",
            "                                                                                                  \n",
            " conv1d_20 (Conv1D)             (None, 650000, 64)   2112        ['activation_46[0][0]']          \n",
            "                                                                                                  \n",
            " batch_normalization_46 (BatchN  (None, 650000, 64)  256         ['conv1d_20[0][0]']              \n",
            " ormalization)                                                                                    \n",
            "                                                                                                  \n",
            " activation_47 (Activation)     (None, 650000, 64)   0           ['batch_normalization_46[0][0]'] \n",
            "                                                                                                  \n",
            " conv1d_21 (Conv1D)             (None, 650000, 512)  33280       ['activation_47[0][0]']          \n",
            "                                                                                                  \n",
            " batch_normalization_47 (BatchN  (None, 650000, 512)  2048       ['conv1d_21[0][0]']              \n",
            " ormalization)                                                                                    \n",
            "                                                                                                  \n",
            " activation_48 (Activation)     (None, 650000, 512)  0           ['batch_normalization_47[0][0]'] \n",
            "                                                                                                  \n",
            " global_max_pooling1d_5 (Global  (None, 512)         0           ['activation_48[0][0]']          \n",
            " MaxPooling1D)                                                                                    \n",
            "                                                                                                  \n",
            " dense_23 (Dense)               (None, 256)          131328      ['global_max_pooling1d_5[0][0]'] \n",
            "                                                                                                  \n",
            " batch_normalization_48 (BatchN  (None, 256)         1024        ['dense_23[0][0]']               \n",
            " ormalization)                                                                                    \n",
            "                                                                                                  \n",
            " activation_49 (Activation)     (None, 256)          0           ['batch_normalization_48[0][0]'] \n",
            "                                                                                                  \n",
            " dropout_6 (Dropout)            (None, 256)          0           ['activation_49[0][0]']          \n",
            "                                                                                                  \n",
            " dense_24 (Dense)               (None, 128)          32896       ['dropout_6[0][0]']              \n",
            "                                                                                                  \n",
            " batch_normalization_49 (BatchN  (None, 128)         512         ['dense_24[0][0]']               \n",
            " ormalization)                                                                                    \n",
            "                                                                                                  \n",
            " activation_50 (Activation)     (None, 128)          0           ['batch_normalization_49[0][0]'] \n",
            "                                                                                                  \n",
            " dropout_7 (Dropout)            (None, 128)          0           ['activation_50[0][0]']          \n",
            "                                                                                                  \n",
            " dense_25 (Dense)               (None, 10)           1290        ['dropout_7[0][0]']              \n",
            "                                                                                                  \n",
            " activation_51 (Activation)     (None, 10)           0           ['dense_25[0][0]']               \n",
            "                                                                                                  \n",
            "==================================================================================================\n",
            "Total params: 752,654\n",
            "Trainable params: 746,574\n",
            "Non-trainable params: 6,080\n",
            "__________________________________________________________________________________________________\n"
          ]
        }
      ]
    },
    {
      "cell_type": "code",
      "metadata": {
        "colab": {
          "base_uri": "https://localhost:8080/"
        },
        "outputId": "04ae9e73-2871-4ec9-ba40-251d77ff5e12",
        "id": "OZk_IGyHdnFg"
      },
      "source": [
        "for batch_size in [1, 2, 4, 8, 16, 32]:\n",
        "  mem_size = get_model_memory_usage_mixed_mode(batch_size, model)\n",
        "  print(\"Batch Size:{} , Memory Usage: {} GB\".format(batch_size, mem_size))"
      ],
      "execution_count": 34,
      "outputs": [
        {
          "output_type": "stream",
          "name": "stdout",
          "text": [
            "Batch Size:1 , Memory Usage: 13.824 GB\n",
            "Batch Size:2 , Memory Usage: 27.646 GB\n",
            "Batch Size:4 , Memory Usage: 55.289 GB\n",
            "Batch Size:8 , Memory Usage: 110.576 GB\n",
            "Batch Size:16 , Memory Usage: 221.148 GB\n",
            "Batch Size:32 , Memory Usage: 442.294 GB\n"
          ]
        }
      ]
    },
    {
      "cell_type": "markdown",
      "source": [
        "### 3D CNNの場合\n",
        "下記のページより  \n",
        "https://keras.io/examples/vision/3D_image_classification/"
      ],
      "metadata": {
        "id": "Prr-yJ9adnFg"
      }
    },
    {
      "cell_type": "code",
      "execution_count": 35,
      "metadata": {
        "colab": {
          "base_uri": "https://localhost:8080/"
        },
        "outputId": "bc9a05c4-203d-4681-c26f-0a5cff96e027",
        "id": "L2aXvp5fdnFg"
      },
      "outputs": [
        {
          "output_type": "stream",
          "name": "stdout",
          "text": [
            "Model: \"3dcnn\"\n",
            "_________________________________________________________________\n",
            " Layer (type)                Output Shape              Param #   \n",
            "=================================================================\n",
            " input_7 (InputLayer)        [(None, 150, 300, 150, 3  0         \n",
            "                             )]                                  \n",
            "                                                                 \n",
            " conv3d_16 (Conv3D)          (None, 148, 298, 148, 64  5248      \n",
            "                             )                                   \n",
            "                                                                 \n",
            " activation_52 (Activation)  (None, 148, 298, 148, 64  0         \n",
            "                             )                                   \n",
            "                                                                 \n",
            " max_pooling3d_16 (MaxPoolin  (None, 74, 149, 74, 64)  0         \n",
            " g3D)                                                            \n",
            "                                                                 \n",
            " batch_normalization_50 (Bat  (None, 74, 149, 74, 64)  256       \n",
            " chNormalization)                                                \n",
            "                                                                 \n",
            " conv3d_17 (Conv3D)          (None, 72, 147, 72, 64)   110656    \n",
            "                                                                 \n",
            " activation_53 (Activation)  (None, 72, 147, 72, 64)   0         \n",
            "                                                                 \n",
            " max_pooling3d_17 (MaxPoolin  (None, 36, 73, 36, 64)   0         \n",
            " g3D)                                                            \n",
            "                                                                 \n",
            " batch_normalization_51 (Bat  (None, 36, 73, 36, 64)   256       \n",
            " chNormalization)                                                \n",
            "                                                                 \n",
            " conv3d_18 (Conv3D)          (None, 34, 71, 34, 128)   221312    \n",
            "                                                                 \n",
            " activation_54 (Activation)  (None, 34, 71, 34, 128)   0         \n",
            "                                                                 \n",
            " max_pooling3d_18 (MaxPoolin  (None, 17, 35, 17, 128)  0         \n",
            " g3D)                                                            \n",
            "                                                                 \n",
            " batch_normalization_52 (Bat  (None, 17, 35, 17, 128)  512       \n",
            " chNormalization)                                                \n",
            "                                                                 \n",
            " conv3d_19 (Conv3D)          (None, 15, 33, 15, 256)   884992    \n",
            "                                                                 \n",
            " activation_55 (Activation)  (None, 15, 33, 15, 256)   0         \n",
            "                                                                 \n",
            " max_pooling3d_19 (MaxPoolin  (None, 7, 16, 7, 256)    0         \n",
            " g3D)                                                            \n",
            "                                                                 \n",
            " batch_normalization_53 (Bat  (None, 7, 16, 7, 256)    1024      \n",
            " chNormalization)                                                \n",
            "                                                                 \n",
            " global_average_pooling3d_4   (None, 256)              0         \n",
            " (GlobalAveragePooling3D)                                        \n",
            "                                                                 \n",
            " dense_26 (Dense)            (None, 512)               131584    \n",
            "                                                                 \n",
            " dropout_8 (Dropout)         (None, 512)               0         \n",
            "                                                                 \n",
            " dense_27 (Dense)            (None, 10)                5130      \n",
            "                                                                 \n",
            " activation_56 (Activation)  (None, 10)                0         \n",
            "                                                                 \n",
            "=================================================================\n",
            "Total params: 1,360,970\n",
            "Trainable params: 1,359,946\n",
            "Non-trainable params: 1,024\n",
            "_________________________________________________________________\n"
          ]
        }
      ],
      "source": [
        "def get_model(width=128, height=128, depth=64, channel=1):\n",
        "    \"\"\"Build a 3D convolutional neural network model.\"\"\"\n",
        "\n",
        "    inputs = keras.Input((width, height, depth, channel))\n",
        "\n",
        "    x = layers.Conv3D(filters=64, kernel_size=3)(inputs)\n",
        "    x = layers.Activation(tf.keras.activations.relu)(x)\n",
        "    x = layers.MaxPool3D(pool_size=2)(x)\n",
        "    x = layers.BatchNormalization()(x)\n",
        "\n",
        "    x = layers.Conv3D(filters=64, kernel_size=3)(x)\n",
        "    x = layers.Activation(tf.keras.activations.relu)(x)\n",
        "    x = layers.MaxPool3D(pool_size=2)(x)\n",
        "    x = layers.BatchNormalization()(x)\n",
        "\n",
        "    x = layers.Conv3D(filters=128, kernel_size=3)(x)\n",
        "    x = layers.Activation(tf.keras.activations.relu)(x)\n",
        "    x = layers.MaxPool3D(pool_size=2)(x)\n",
        "    x = layers.BatchNormalization()(x)\n",
        "\n",
        "    x = layers.Conv3D(filters=256, kernel_size=3)(x)\n",
        "    x = layers.Activation(tf.keras.activations.relu)(x)\n",
        "    x = layers.MaxPool3D(pool_size=2)(x)\n",
        "    x = layers.BatchNormalization()(x)\n",
        "\n",
        "    x = layers.GlobalAveragePooling3D()(x)\n",
        "    x = layers.Dense(units=512)(x)\n",
        "    x = layers.Dropout(0.3)(x)\n",
        "\n",
        "    x = layers.Dense(units=10)(x)\n",
        "    outputs = layers.Activation(tf.keras.activations.softmax)(x)\n",
        "\n",
        "    # Define the model.\n",
        "    model = keras.Model(inputs, outputs, name=\"3dcnn\")\n",
        "    return model\n",
        "\n",
        "\n",
        "# Build model.\n",
        "model = get_model(width=150, height=300, depth=150, channel=3)\n",
        "model.summary()"
      ]
    },
    {
      "cell_type": "code",
      "execution_count": 36,
      "metadata": {
        "colab": {
          "base_uri": "https://localhost:8080/"
        },
        "outputId": "1475fd04-93f0-426f-d4c1-8e8a06fb0f09",
        "id": "XNDgotRydnFg"
      },
      "outputs": [
        {
          "output_type": "stream",
          "name": "stdout",
          "text": [
            "Batch Size:1 , Memory Usage: 4.094GB\n",
            "Batch Size:2 , Memory Usage: 8.183GB\n",
            "Batch Size:4 , Memory Usage: 16.361GB\n",
            "Batch Size:8 , Memory Usage: 32.718GB\n",
            "Batch Size:16 , Memory Usage: 65.43GB\n",
            "Batch Size:32 , Memory Usage: 130.855GB\n"
          ]
        }
      ],
      "source": [
        "for batch_size in [1, 2, 4, 8, 16, 32]:\n",
        "  mem_size = get_model_memory_usage_mixed_mode(batch_size, model)\n",
        "  print(\"Batch Size:{} , Memory Usage: {}GB\".format(batch_size, mem_size))"
      ]
    },
    {
      "cell_type": "markdown",
      "source": [
        "### 3D-CNN 512x512x512 の場合"
      ],
      "metadata": {
        "id": "0-EIPVSWdnFh"
      }
    },
    {
      "cell_type": "code",
      "source": [
        "# Build model.\n",
        "model = get_model(width=512, height=512, depth=512, channel=3)\n",
        "model.summary()"
      ],
      "metadata": {
        "colab": {
          "base_uri": "https://localhost:8080/"
        },
        "outputId": "79fff078-adf2-402a-a9b3-f12d24f78b39",
        "id": "uqVtdesNdnFh"
      },
      "execution_count": 37,
      "outputs": [
        {
          "output_type": "stream",
          "name": "stdout",
          "text": [
            "Model: \"3dcnn\"\n",
            "_________________________________________________________________\n",
            " Layer (type)                Output Shape              Param #   \n",
            "=================================================================\n",
            " input_8 (InputLayer)        [(None, 512, 512, 512, 3  0         \n",
            "                             )]                                  \n",
            "                                                                 \n",
            " conv3d_20 (Conv3D)          (None, 510, 510, 510, 64  5248      \n",
            "                             )                                   \n",
            "                                                                 \n",
            " activation_57 (Activation)  (None, 510, 510, 510, 64  0         \n",
            "                             )                                   \n",
            "                                                                 \n",
            " max_pooling3d_20 (MaxPoolin  (None, 255, 255, 255, 64  0        \n",
            " g3D)                        )                                   \n",
            "                                                                 \n",
            " batch_normalization_54 (Bat  (None, 255, 255, 255, 64  256      \n",
            " chNormalization)            )                                   \n",
            "                                                                 \n",
            " conv3d_21 (Conv3D)          (None, 253, 253, 253, 64  110656    \n",
            "                             )                                   \n",
            "                                                                 \n",
            " activation_58 (Activation)  (None, 253, 253, 253, 64  0         \n",
            "                             )                                   \n",
            "                                                                 \n",
            " max_pooling3d_21 (MaxPoolin  (None, 126, 126, 126, 64  0        \n",
            " g3D)                        )                                   \n",
            "                                                                 \n",
            " batch_normalization_55 (Bat  (None, 126, 126, 126, 64  256      \n",
            " chNormalization)            )                                   \n",
            "                                                                 \n",
            " conv3d_22 (Conv3D)          (None, 124, 124, 124, 12  221312    \n",
            "                             8)                                  \n",
            "                                                                 \n",
            " activation_59 (Activation)  (None, 124, 124, 124, 12  0         \n",
            "                             8)                                  \n",
            "                                                                 \n",
            " max_pooling3d_22 (MaxPoolin  (None, 62, 62, 62, 128)  0         \n",
            " g3D)                                                            \n",
            "                                                                 \n",
            " batch_normalization_56 (Bat  (None, 62, 62, 62, 128)  512       \n",
            " chNormalization)                                                \n",
            "                                                                 \n",
            " conv3d_23 (Conv3D)          (None, 60, 60, 60, 256)   884992    \n",
            "                                                                 \n",
            " activation_60 (Activation)  (None, 60, 60, 60, 256)   0         \n",
            "                                                                 \n",
            " max_pooling3d_23 (MaxPoolin  (None, 30, 30, 30, 256)  0         \n",
            " g3D)                                                            \n",
            "                                                                 \n",
            " batch_normalization_57 (Bat  (None, 30, 30, 30, 256)  1024      \n",
            " chNormalization)                                                \n",
            "                                                                 \n",
            " global_average_pooling3d_5   (None, 256)              0         \n",
            " (GlobalAveragePooling3D)                                        \n",
            "                                                                 \n",
            " dense_28 (Dense)            (None, 512)               131584    \n",
            "                                                                 \n",
            " dropout_9 (Dropout)         (None, 512)               0         \n",
            "                                                                 \n",
            " dense_29 (Dense)            (None, 10)                5130      \n",
            "                                                                 \n",
            " activation_61 (Activation)  (None, 10)                0         \n",
            "                                                                 \n",
            "=================================================================\n",
            "Total params: 1,360,970\n",
            "Trainable params: 1,359,946\n",
            "Non-trainable params: 1,024\n",
            "_________________________________________________________________\n"
          ]
        }
      ]
    },
    {
      "cell_type": "code",
      "execution_count": 38,
      "metadata": {
        "colab": {
          "base_uri": "https://localhost:8080/"
        },
        "outputId": "b8303fba-c055-40bd-ea73-43706797351f",
        "id": "8irF4CG1dnFs"
      },
      "outputs": [
        {
          "output_type": "stream",
          "name": "stdout",
          "text": [
            "Batch Size:1 , Memory Usage: 83.85GB\n",
            "Batch Size:2 , Memory Usage: 167.694GB\n",
            "Batch Size:4 , Memory Usage: 335.383GB\n",
            "Batch Size:8 , Memory Usage: 670.761GB\n",
            "Batch Size:16 , Memory Usage: 1341.517GB\n",
            "Batch Size:32 , Memory Usage: 2683.029GB\n"
          ]
        }
      ],
      "source": [
        "for batch_size in [1, 2, 4, 8, 16, 32]:\n",
        "  mem_size = get_model_memory_usage_mixed_mode(batch_size, model)\n",
        "  print(\"Batch Size:{} , Memory Usage: {}GB\".format(batch_size, mem_size))"
      ]
    }
  ],
  "metadata": {
    "colab": {
      "collapsed_sections": [],
      "name": "TensorFlow_Model_Size_Estimations_Considerations.ipynb",
      "provenance": [],
      "toc_visible": true
    },
    "kernelspec": {
      "display_name": "Python 3 (ipykernel)",
      "language": "python",
      "name": "python3"
    },
    "language_info": {
      "codemirror_mode": {
        "name": "ipython",
        "version": 3
      },
      "file_extension": ".py",
      "mimetype": "text/x-python",
      "name": "python",
      "nbconvert_exporter": "python",
      "pygments_lexer": "ipython3",
      "version": "3.8.10"
    },
    "accelerator": "GPU"
  },
  "nbformat": 4,
  "nbformat_minor": 0
}